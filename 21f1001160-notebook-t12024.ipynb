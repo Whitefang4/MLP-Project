{
 "cells": [
  {
   "cell_type": "code",
   "execution_count": 1,
   "id": "959ceb58",
   "metadata": {
    "_cell_guid": "b1076dfc-b9ad-4769-8c92-a6c4dae69d19",
    "_uuid": "8f2839f25d086af736a60e9eeb907d3b93b6e0e5",
    "execution": {
     "iopub.execute_input": "2024-04-10T16:51:10.700938Z",
     "iopub.status.busy": "2024-04-10T16:51:10.700402Z",
     "iopub.status.idle": "2024-04-10T16:51:11.644024Z",
     "shell.execute_reply": "2024-04-10T16:51:11.642725Z"
    },
    "papermill": {
     "duration": 0.973808,
     "end_time": "2024-04-10T16:51:11.646508",
     "exception": false,
     "start_time": "2024-04-10T16:51:10.672700",
     "status": "completed"
    },
    "tags": []
   },
   "outputs": [
    {
     "name": "stdout",
     "output_type": "stream",
     "text": [
      "/kaggle/input/recipe-for-rating-predict-food-ratings-using-ml/sample.csv\n",
      "/kaggle/input/recipe-for-rating-predict-food-ratings-using-ml/train.csv\n",
      "/kaggle/input/recipe-for-rating-predict-food-ratings-using-ml/test.csv\n"
     ]
    }
   ],
   "source": [
    "# This Python 3 environment comes with many helpful analytics libraries installed\n",
    "# It is defined by the kaggle/python Docker image: https://github.com/kaggle/docker-python\n",
    "# For example, here's several helpful packages to load\n",
    "\n",
    "import numpy as np # linear algebra\n",
    "import pandas as pd # data processing, CSV file I/O (e.g. pd.read_csv)\n",
    "\n",
    "# Input data files are available in the read-only \"../input/\" directory\n",
    "# For example, running this (by clicking run or pressing Shift+Enter) will list all files under the input directory\n",
    "\n",
    "import os\n",
    "for dirname, _, filenames in os.walk('/kaggle/input'):\n",
    "    for filename in filenames:\n",
    "        print(os.path.join(dirname, filename))\n",
    "\n",
    "# You can write up to 20GB to the current directory (/kaggle/working/) that gets preserved as output when you create a version using \"Save & Run All\" \n",
    "# You can also write temporary files to /kaggle/temp/, but they won't be saved outside of the current session"
   ]
  },
  {
   "cell_type": "code",
   "execution_count": 2,
   "id": "0eb53853",
   "metadata": {
    "execution": {
     "iopub.execute_input": "2024-04-10T16:51:11.701847Z",
     "iopub.status.busy": "2024-04-10T16:51:11.701192Z",
     "iopub.status.idle": "2024-04-10T16:51:13.131290Z",
     "shell.execute_reply": "2024-04-10T16:51:13.130092Z"
    },
    "papermill": {
     "duration": 1.460084,
     "end_time": "2024-04-10T16:51:13.133896",
     "exception": false,
     "start_time": "2024-04-10T16:51:11.673812",
     "status": "completed"
    },
    "tags": []
   },
   "outputs": [],
   "source": [
    "import numpy as np\n",
    "import pandas as pd\n",
    "import matplotlib.pyplot as plt\n",
    "import seaborn as sns\n"
   ]
  },
  {
   "cell_type": "markdown",
   "id": "2b4b7ada",
   "metadata": {
    "papermill": {
     "duration": 0.025453,
     "end_time": "2024-04-10T16:51:13.186129",
     "exception": false,
     "start_time": "2024-04-10T16:51:13.160676",
     "status": "completed"
    },
    "tags": []
   },
   "source": [
    "# **DATA LOADING & PREPROCESSING**"
   ]
  },
  {
   "cell_type": "code",
   "execution_count": 3,
   "id": "83bf33d0",
   "metadata": {
    "execution": {
     "iopub.execute_input": "2024-04-10T16:51:13.243050Z",
     "iopub.status.busy": "2024-04-10T16:51:13.242326Z",
     "iopub.status.idle": "2024-04-10T16:51:13.415076Z",
     "shell.execute_reply": "2024-04-10T16:51:13.414042Z"
    },
    "papermill": {
     "duration": 0.20438,
     "end_time": "2024-04-10T16:51:13.417988",
     "exception": false,
     "start_time": "2024-04-10T16:51:13.213608",
     "status": "completed"
    },
    "tags": []
   },
   "outputs": [],
   "source": [
    "train_csv = '/kaggle/input/recipe-for-rating-predict-food-ratings-using-ml/train.csv'\n",
    "data = pd.read_csv(train_csv)"
   ]
  },
  {
   "cell_type": "code",
   "execution_count": 4,
   "id": "3bc15e23",
   "metadata": {
    "execution": {
     "iopub.execute_input": "2024-04-10T16:51:13.471795Z",
     "iopub.status.busy": "2024-04-10T16:51:13.471065Z",
     "iopub.status.idle": "2024-04-10T16:51:13.527414Z",
     "shell.execute_reply": "2024-04-10T16:51:13.526303Z"
    },
    "papermill": {
     "duration": 0.086086,
     "end_time": "2024-04-10T16:51:13.530063",
     "exception": false,
     "start_time": "2024-04-10T16:51:13.443977",
     "status": "completed"
    },
    "tags": []
   },
   "outputs": [
    {
     "data": {
      "text/html": [
       "<div>\n",
       "<style scoped>\n",
       "    .dataframe tbody tr th:only-of-type {\n",
       "        vertical-align: middle;\n",
       "    }\n",
       "\n",
       "    .dataframe tbody tr th {\n",
       "        vertical-align: top;\n",
       "    }\n",
       "\n",
       "    .dataframe thead th {\n",
       "        text-align: right;\n",
       "    }\n",
       "</style>\n",
       "<table border=\"1\" class=\"dataframe\">\n",
       "  <thead>\n",
       "    <tr style=\"text-align: right;\">\n",
       "      <th></th>\n",
       "      <th>ID</th>\n",
       "      <th>RecipeNumber</th>\n",
       "      <th>RecipeCode</th>\n",
       "      <th>UserReputation</th>\n",
       "      <th>CreationTimestamp</th>\n",
       "      <th>ReplyCount</th>\n",
       "      <th>ThumbsUpCount</th>\n",
       "      <th>ThumbsDownCount</th>\n",
       "      <th>Rating</th>\n",
       "      <th>BestScore</th>\n",
       "    </tr>\n",
       "  </thead>\n",
       "  <tbody>\n",
       "    <tr>\n",
       "      <th>count</th>\n",
       "      <td>13636.000000</td>\n",
       "      <td>13636.000000</td>\n",
       "      <td>13636.000000</td>\n",
       "      <td>13636.000000</td>\n",
       "      <td>1.363600e+04</td>\n",
       "      <td>13636.000000</td>\n",
       "      <td>13636.000000</td>\n",
       "      <td>13636.000000</td>\n",
       "      <td>13636.000000</td>\n",
       "      <td>13636.000000</td>\n",
       "    </tr>\n",
       "    <tr>\n",
       "      <th>mean</th>\n",
       "      <td>121.085289</td>\n",
       "      <td>38.624377</td>\n",
       "      <td>21785.990833</td>\n",
       "      <td>2.160311</td>\n",
       "      <td>1.623713e+09</td>\n",
       "      <td>0.014520</td>\n",
       "      <td>1.098269</td>\n",
       "      <td>0.543708</td>\n",
       "      <td>4.288721</td>\n",
       "      <td>153.127897</td>\n",
       "    </tr>\n",
       "    <tr>\n",
       "      <th>std</th>\n",
       "      <td>116.995633</td>\n",
       "      <td>29.672351</td>\n",
       "      <td>23883.189918</td>\n",
       "      <td>10.086424</td>\n",
       "      <td>5.444020e+06</td>\n",
       "      <td>0.137323</td>\n",
       "      <td>4.166487</td>\n",
       "      <td>3.265660</td>\n",
       "      <td>1.544839</td>\n",
       "      <td>140.986908</td>\n",
       "    </tr>\n",
       "    <tr>\n",
       "      <th>min</th>\n",
       "      <td>0.000000</td>\n",
       "      <td>1.000000</td>\n",
       "      <td>386.000000</td>\n",
       "      <td>0.000000</td>\n",
       "      <td>1.613035e+09</td>\n",
       "      <td>0.000000</td>\n",
       "      <td>0.000000</td>\n",
       "      <td>0.000000</td>\n",
       "      <td>0.000000</td>\n",
       "      <td>0.000000</td>\n",
       "    </tr>\n",
       "    <tr>\n",
       "      <th>25%</th>\n",
       "      <td>45.000000</td>\n",
       "      <td>12.000000</td>\n",
       "      <td>6504.000000</td>\n",
       "      <td>1.000000</td>\n",
       "      <td>1.622717e+09</td>\n",
       "      <td>0.000000</td>\n",
       "      <td>0.000000</td>\n",
       "      <td>0.000000</td>\n",
       "      <td>5.000000</td>\n",
       "      <td>100.000000</td>\n",
       "    </tr>\n",
       "    <tr>\n",
       "      <th>50%</th>\n",
       "      <td>91.000000</td>\n",
       "      <td>33.000000</td>\n",
       "      <td>14600.000000</td>\n",
       "      <td>1.000000</td>\n",
       "      <td>1.622718e+09</td>\n",
       "      <td>0.000000</td>\n",
       "      <td>0.000000</td>\n",
       "      <td>0.000000</td>\n",
       "      <td>5.000000</td>\n",
       "      <td>100.000000</td>\n",
       "    </tr>\n",
       "    <tr>\n",
       "      <th>75%</th>\n",
       "      <td>148.000000</td>\n",
       "      <td>63.000000</td>\n",
       "      <td>33121.000000</td>\n",
       "      <td>1.000000</td>\n",
       "      <td>1.622718e+09</td>\n",
       "      <td>0.000000</td>\n",
       "      <td>0.000000</td>\n",
       "      <td>0.000000</td>\n",
       "      <td>5.000000</td>\n",
       "      <td>100.000000</td>\n",
       "    </tr>\n",
       "    <tr>\n",
       "      <th>max</th>\n",
       "      <td>724.000000</td>\n",
       "      <td>100.000000</td>\n",
       "      <td>191775.000000</td>\n",
       "      <td>510.000000</td>\n",
       "      <td>1.665756e+09</td>\n",
       "      <td>3.000000</td>\n",
       "      <td>80.000000</td>\n",
       "      <td>126.000000</td>\n",
       "      <td>5.000000</td>\n",
       "      <td>946.000000</td>\n",
       "    </tr>\n",
       "  </tbody>\n",
       "</table>\n",
       "</div>"
      ],
      "text/plain": [
       "                 ID  RecipeNumber     RecipeCode  UserReputation  \\\n",
       "count  13636.000000  13636.000000   13636.000000    13636.000000   \n",
       "mean     121.085289     38.624377   21785.990833        2.160311   \n",
       "std      116.995633     29.672351   23883.189918       10.086424   \n",
       "min        0.000000      1.000000     386.000000        0.000000   \n",
       "25%       45.000000     12.000000    6504.000000        1.000000   \n",
       "50%       91.000000     33.000000   14600.000000        1.000000   \n",
       "75%      148.000000     63.000000   33121.000000        1.000000   \n",
       "max      724.000000    100.000000  191775.000000      510.000000   \n",
       "\n",
       "       CreationTimestamp    ReplyCount  ThumbsUpCount  ThumbsDownCount  \\\n",
       "count       1.363600e+04  13636.000000   13636.000000     13636.000000   \n",
       "mean        1.623713e+09      0.014520       1.098269         0.543708   \n",
       "std         5.444020e+06      0.137323       4.166487         3.265660   \n",
       "min         1.613035e+09      0.000000       0.000000         0.000000   \n",
       "25%         1.622717e+09      0.000000       0.000000         0.000000   \n",
       "50%         1.622718e+09      0.000000       0.000000         0.000000   \n",
       "75%         1.622718e+09      0.000000       0.000000         0.000000   \n",
       "max         1.665756e+09      3.000000      80.000000       126.000000   \n",
       "\n",
       "             Rating     BestScore  \n",
       "count  13636.000000  13636.000000  \n",
       "mean       4.288721    153.127897  \n",
       "std        1.544839    140.986908  \n",
       "min        0.000000      0.000000  \n",
       "25%        5.000000    100.000000  \n",
       "50%        5.000000    100.000000  \n",
       "75%        5.000000    100.000000  \n",
       "max        5.000000    946.000000  "
      ]
     },
     "execution_count": 4,
     "metadata": {},
     "output_type": "execute_result"
    }
   ],
   "source": [
    "data.describe()"
   ]
  },
  {
   "cell_type": "code",
   "execution_count": 5,
   "id": "a6f9b579",
   "metadata": {
    "execution": {
     "iopub.execute_input": "2024-04-10T16:51:13.584596Z",
     "iopub.status.busy": "2024-04-10T16:51:13.583829Z",
     "iopub.status.idle": "2024-04-10T16:51:13.615075Z",
     "shell.execute_reply": "2024-04-10T16:51:13.613305Z"
    },
    "papermill": {
     "duration": 0.061534,
     "end_time": "2024-04-10T16:51:13.617614",
     "exception": false,
     "start_time": "2024-04-10T16:51:13.556080",
     "status": "completed"
    },
    "tags": []
   },
   "outputs": [
    {
     "name": "stdout",
     "output_type": "stream",
     "text": [
      "<class 'pandas.core.frame.DataFrame'>\n",
      "RangeIndex: 13636 entries, 0 to 13635\n",
      "Data columns (total 15 columns):\n",
      " #   Column             Non-Null Count  Dtype \n",
      "---  ------             --------------  ----- \n",
      " 0   ID                 13636 non-null  int64 \n",
      " 1   RecipeNumber       13636 non-null  int64 \n",
      " 2   RecipeCode         13636 non-null  int64 \n",
      " 3   RecipeName         13636 non-null  object\n",
      " 4   CommentID          13636 non-null  object\n",
      " 5   UserID             13636 non-null  object\n",
      " 6   UserName           13636 non-null  object\n",
      " 7   UserReputation     13636 non-null  int64 \n",
      " 8   CreationTimestamp  13636 non-null  int64 \n",
      " 9   ReplyCount         13636 non-null  int64 \n",
      " 10  ThumbsUpCount      13636 non-null  int64 \n",
      " 11  ThumbsDownCount    13636 non-null  int64 \n",
      " 12  Rating             13636 non-null  int64 \n",
      " 13  BestScore          13636 non-null  int64 \n",
      " 14  Recipe_Review      13634 non-null  object\n",
      "dtypes: int64(10), object(5)\n",
      "memory usage: 1.6+ MB\n"
     ]
    }
   ],
   "source": [
    "data.info()"
   ]
  },
  {
   "cell_type": "code",
   "execution_count": 6,
   "id": "68eb3c5e",
   "metadata": {
    "execution": {
     "iopub.execute_input": "2024-04-10T16:51:13.672402Z",
     "iopub.status.busy": "2024-04-10T16:51:13.671389Z",
     "iopub.status.idle": "2024-04-10T16:51:13.688314Z",
     "shell.execute_reply": "2024-04-10T16:51:13.687188Z"
    },
    "papermill": {
     "duration": 0.047058,
     "end_time": "2024-04-10T16:51:13.690694",
     "exception": false,
     "start_time": "2024-04-10T16:51:13.643636",
     "status": "completed"
    },
    "tags": []
   },
   "outputs": [
    {
     "data": {
      "text/plain": [
       "ID                   0\n",
       "RecipeNumber         0\n",
       "RecipeCode           0\n",
       "RecipeName           0\n",
       "CommentID            0\n",
       "UserID               0\n",
       "UserName             0\n",
       "UserReputation       0\n",
       "CreationTimestamp    0\n",
       "ReplyCount           0\n",
       "ThumbsUpCount        0\n",
       "ThumbsDownCount      0\n",
       "Rating               0\n",
       "BestScore            0\n",
       "Recipe_Review        2\n",
       "dtype: int64"
      ]
     },
     "execution_count": 6,
     "metadata": {},
     "output_type": "execute_result"
    }
   ],
   "source": [
    "data.isnull().sum()"
   ]
  },
  {
   "cell_type": "code",
   "execution_count": 7,
   "id": "ceca500a",
   "metadata": {
    "execution": {
     "iopub.execute_input": "2024-04-10T16:51:13.746293Z",
     "iopub.status.busy": "2024-04-10T16:51:13.745914Z",
     "iopub.status.idle": "2024-04-10T16:51:13.751577Z",
     "shell.execute_reply": "2024-04-10T16:51:13.750647Z"
    },
    "papermill": {
     "duration": 0.036276,
     "end_time": "2024-04-10T16:51:13.753949",
     "exception": false,
     "start_time": "2024-04-10T16:51:13.717673",
     "status": "completed"
    },
    "tags": []
   },
   "outputs": [],
   "source": [
    "imputed_data = data.copy()"
   ]
  },
  {
   "cell_type": "code",
   "execution_count": 8,
   "id": "8a45997f",
   "metadata": {
    "execution": {
     "iopub.execute_input": "2024-04-10T16:51:13.809006Z",
     "iopub.status.busy": "2024-04-10T16:51:13.808630Z",
     "iopub.status.idle": "2024-04-10T16:51:14.333919Z",
     "shell.execute_reply": "2024-04-10T16:51:14.332796Z"
    },
    "papermill": {
     "duration": 0.555951,
     "end_time": "2024-04-10T16:51:14.336524",
     "exception": false,
     "start_time": "2024-04-10T16:51:13.780573",
     "status": "completed"
    },
    "tags": []
   },
   "outputs": [
    {
     "data": {
      "text/plain": [
       "ID                   0\n",
       "RecipeNumber         0\n",
       "RecipeCode           0\n",
       "RecipeName           0\n",
       "CommentID            0\n",
       "UserID               0\n",
       "UserName             0\n",
       "UserReputation       0\n",
       "CreationTimestamp    0\n",
       "ReplyCount           0\n",
       "ThumbsUpCount        0\n",
       "ThumbsDownCount      0\n",
       "Rating               0\n",
       "BestScore            0\n",
       "Recipe_Review        0\n",
       "dtype: int64"
      ]
     },
     "execution_count": 8,
     "metadata": {},
     "output_type": "execute_result"
    }
   ],
   "source": [
    "from sklearn.impute import SimpleImputer\n",
    "sim = SimpleImputer(strategy = \"most_frequent\", missing_values=np.nan)\n",
    "imputed_data[['Recipe_Review']] = sim.fit_transform(imputed_data[['Recipe_Review']])\n",
    "imputed_data.isnull().sum()"
   ]
  },
  {
   "cell_type": "code",
   "execution_count": 9,
   "id": "45de7597",
   "metadata": {
    "execution": {
     "iopub.execute_input": "2024-04-10T16:51:14.391279Z",
     "iopub.status.busy": "2024-04-10T16:51:14.390896Z",
     "iopub.status.idle": "2024-04-10T16:51:15.116054Z",
     "shell.execute_reply": "2024-04-10T16:51:15.114872Z"
    },
    "papermill": {
     "duration": 0.75675,
     "end_time": "2024-04-10T16:51:15.119869",
     "exception": false,
     "start_time": "2024-04-10T16:51:14.363119",
     "status": "completed"
    },
    "tags": []
   },
   "outputs": [
    {
     "data": {
      "text/plain": [
       "<Axes: >"
      ]
     },
     "execution_count": 9,
     "metadata": {},
     "output_type": "execute_result"
    },
    {
     "data": {
      "image/png": "[encoded data removed]",
      "text/plain": [
       "<Figure size 640x480 with 2 Axes>"
      ]
     },
     "metadata": {},
     "output_type": "display_data"
    }
   ],
   "source": [
    "#Correlation Matrix\n",
    "correlation_matrix = imputed_data.corr(numeric_only=True)\n",
    "plt.figure()\n",
    "sns.heatmap(correlation_matrix,annot=True,cmap='coolwarm',fmt=\".2f\")"
   ]
  },
  {
   "cell_type": "code",
   "execution_count": 10,
   "id": "ed4414a8",
   "metadata": {
    "execution": {
     "iopub.execute_input": "2024-04-10T16:51:15.238481Z",
     "iopub.status.busy": "2024-04-10T16:51:15.238077Z",
     "iopub.status.idle": "2024-04-10T16:51:17.514538Z",
     "shell.execute_reply": "2024-04-10T16:51:17.513389Z"
    },
    "papermill": {
     "duration": 2.366462,
     "end_time": "2024-04-10T16:51:17.517184",
     "exception": false,
     "start_time": "2024-04-10T16:51:15.150722",
     "status": "completed"
    },
    "tags": []
   },
   "outputs": [
    {
     "data": {
      "image/png": "[encoded data removed]",
      "text/plain": [
       "<Figure size 1500x600 with 1 Axes>"
      ]
     },
     "metadata": {},
     "output_type": "display_data"
    }
   ],
   "source": [
    "# ploting barplot for the columns having high correlation \n",
    "plt.figure(figsize=(15, 6))\n",
    "sns.barplot(data=imputed_data,x=\"ThumbsUpCount\", y=\"BestScore\")\n",
    "plt.show()"
   ]
  },
  {
   "cell_type": "code",
   "execution_count": 11,
   "id": "00800bff",
   "metadata": {
    "execution": {
     "iopub.execute_input": "2024-04-10T16:51:17.577733Z",
     "iopub.status.busy": "2024-04-10T16:51:17.576537Z",
     "iopub.status.idle": "2024-04-10T16:51:21.989766Z",
     "shell.execute_reply": "2024-04-10T16:51:21.988856Z"
    },
    "papermill": {
     "duration": 4.447005,
     "end_time": "2024-04-10T16:51:21.993068",
     "exception": false,
     "start_time": "2024-04-10T16:51:17.546063",
     "status": "completed"
    },
    "tags": []
   },
   "outputs": [
    {
     "data": {
      "image/png": "[encoded data removed]",
      "text/plain": [
       "<Figure size 2500x1200 with 1 Axes>"
      ]
     },
     "metadata": {},
     "output_type": "display_data"
    }
   ],
   "source": [
    "# ploting barplot for the columns having high correlation such as \n",
    "plt.figure(figsize=(25, 12))\n",
    "sns.barplot(data=imputed_data,x=\"RecipeNumber\", y=\"RecipeCode\")\n",
    "plt.show()\n"
   ]
  },
  {
   "cell_type": "code",
   "execution_count": null,
   "id": "0db0245f",
   "metadata": {
    "papermill": {
     "duration": 0.029158,
     "end_time": "2024-04-10T16:51:22.052057",
     "exception": false,
     "start_time": "2024-04-10T16:51:22.022899",
     "status": "completed"
    },
    "tags": []
   },
   "outputs": [],
   "source": []
  },
  {
   "cell_type": "code",
   "execution_count": 12,
   "id": "d72e1e30",
   "metadata": {
    "execution": {
     "iopub.execute_input": "2024-04-10T16:51:22.114237Z",
     "iopub.status.busy": "2024-04-10T16:51:22.113856Z",
     "iopub.status.idle": "2024-04-10T16:51:22.121061Z",
     "shell.execute_reply": "2024-04-10T16:51:22.119944Z"
    },
    "papermill": {
     "duration": 0.040651,
     "end_time": "2024-04-10T16:51:22.123424",
     "exception": false,
     "start_time": "2024-04-10T16:51:22.082773",
     "status": "completed"
    },
    "tags": []
   },
   "outputs": [
    {
     "data": {
      "text/plain": [
       "Index(['ID', 'RecipeNumber', 'RecipeCode', 'RecipeName', 'CommentID', 'UserID',\n",
       "       'UserName', 'UserReputation', 'CreationTimestamp', 'ReplyCount',\n",
       "       'ThumbsUpCount', 'ThumbsDownCount', 'Rating', 'BestScore',\n",
       "       'Recipe_Review'],\n",
       "      dtype='object')"
      ]
     },
     "execution_count": 12,
     "metadata": {},
     "output_type": "execute_result"
    }
   ],
   "source": [
    "imputed_data.columns\n"
   ]
  },
  {
   "cell_type": "code",
   "execution_count": 13,
   "id": "e23a5f8e",
   "metadata": {
    "execution": {
     "iopub.execute_input": "2024-04-10T16:51:22.185433Z",
     "iopub.status.busy": "2024-04-10T16:51:22.184824Z",
     "iopub.status.idle": "2024-04-10T16:51:22.203284Z",
     "shell.execute_reply": "2024-04-10T16:51:22.202182Z"
    },
    "papermill": {
     "duration": 0.05246,
     "end_time": "2024-04-10T16:51:22.205691",
     "exception": false,
     "start_time": "2024-04-10T16:51:22.153231",
     "status": "completed"
    },
    "tags": []
   },
   "outputs": [
    {
     "data": {
      "text/html": [
       "<div>\n",
       "<style scoped>\n",
       "    .dataframe tbody tr th:only-of-type {\n",
       "        vertical-align: middle;\n",
       "    }\n",
       "\n",
       "    .dataframe tbody tr th {\n",
       "        vertical-align: top;\n",
       "    }\n",
       "\n",
       "    .dataframe thead th {\n",
       "        text-align: right;\n",
       "    }\n",
       "</style>\n",
       "<table border=\"1\" class=\"dataframe\">\n",
       "  <thead>\n",
       "    <tr style=\"text-align: right;\">\n",
       "      <th></th>\n",
       "      <th>ID</th>\n",
       "      <th>RecipeNumber</th>\n",
       "      <th>RecipeCode</th>\n",
       "      <th>RecipeName</th>\n",
       "      <th>CommentID</th>\n",
       "      <th>UserID</th>\n",
       "      <th>UserName</th>\n",
       "      <th>UserReputation</th>\n",
       "      <th>CreationTimestamp</th>\n",
       "      <th>ReplyCount</th>\n",
       "      <th>ThumbsUpCount</th>\n",
       "      <th>ThumbsDownCount</th>\n",
       "      <th>Rating</th>\n",
       "      <th>BestScore</th>\n",
       "      <th>Recipe_Review</th>\n",
       "    </tr>\n",
       "  </thead>\n",
       "  <tbody>\n",
       "    <tr>\n",
       "      <th>0</th>\n",
       "      <td>70</td>\n",
       "      <td>71</td>\n",
       "      <td>12259</td>\n",
       "      <td>Banana Bars with Cream Cheese Frosting</td>\n",
       "      <td>sp_aUSaElGf_12259_c_149978</td>\n",
       "      <td>u_1oKVaBmiEKwAFyiHrDLoWpbel0J</td>\n",
       "      <td>misscoffeepot</td>\n",
       "      <td>20</td>\n",
       "      <td>1622717078</td>\n",
       "      <td>0</td>\n",
       "      <td>0</td>\n",
       "      <td>0</td>\n",
       "      <td>5</td>\n",
       "      <td>100</td>\n",
       "      <td>great recipe! I have made them just as written...</td>\n",
       "    </tr>\n",
       "    <tr>\n",
       "      <th>1</th>\n",
       "      <td>72</td>\n",
       "      <td>88</td>\n",
       "      <td>8202</td>\n",
       "      <td>Simple Taco Soup</td>\n",
       "      <td>sp_aUSaElGf_8202_c_310332</td>\n",
       "      <td>u_1oKZeRIXYzGNhGW8OMR3O4lX1ih</td>\n",
       "      <td>MichelleMalone</td>\n",
       "      <td>1</td>\n",
       "      <td>1622717852</td>\n",
       "      <td>0</td>\n",
       "      <td>0</td>\n",
       "      <td>1</td>\n",
       "      <td>5</td>\n",
       "      <td>100</td>\n",
       "      <td>This is an easy and quick recipe that is great...</td>\n",
       "    </tr>\n",
       "    <tr>\n",
       "      <th>2</th>\n",
       "      <td>458</td>\n",
       "      <td>3</td>\n",
       "      <td>2832</td>\n",
       "      <td>Cheeseburger Soup</td>\n",
       "      <td>sp_aUSaElGf_2832_c_206522</td>\n",
       "      <td>u_1oKYHUtdaD48KJCDYq5wfpAUxWz</td>\n",
       "      <td>jeannem32</td>\n",
       "      <td>1</td>\n",
       "      <td>1622717357</td>\n",
       "      <td>0</td>\n",
       "      <td>0</td>\n",
       "      <td>0</td>\n",
       "      <td>3</td>\n",
       "      <td>100</td>\n",
       "      <td>I think I was looking for something extra spec...</td>\n",
       "    </tr>\n",
       "    <tr>\n",
       "      <th>3</th>\n",
       "      <td>7</td>\n",
       "      <td>50</td>\n",
       "      <td>100276</td>\n",
       "      <td>Grilled Huli Huli Chicken</td>\n",
       "      <td>sp_aUSaElGf_100276_c_434088</td>\n",
       "      <td>u_1oKZCQcKQZdQhDVBS7oISc216VA</td>\n",
       "      <td>ds422</td>\n",
       "      <td>1</td>\n",
       "      <td>1622648899</td>\n",
       "      <td>0</td>\n",
       "      <td>0</td>\n",
       "      <td>0</td>\n",
       "      <td>5</td>\n",
       "      <td>100</td>\n",
       "      <td>This is our favorite grilled chicken recipe.  ...</td>\n",
       "    </tr>\n",
       "    <tr>\n",
       "      <th>4</th>\n",
       "      <td>60</td>\n",
       "      <td>12</td>\n",
       "      <td>19731</td>\n",
       "      <td>Cauliflower Soup</td>\n",
       "      <td>sp_aUSaElGf_19731_c_387011</td>\n",
       "      <td>u_1oKd4sudZQPgu6YALiC7bW7mKMs</td>\n",
       "      <td>SusanHoward</td>\n",
       "      <td>1</td>\n",
       "      <td>1622718260</td>\n",
       "      <td>0</td>\n",
       "      <td>0</td>\n",
       "      <td>0</td>\n",
       "      <td>4</td>\n",
       "      <td>100</td>\n",
       "      <td>Great basic recipe. I added 2 teaspoons Tuscan...</td>\n",
       "    </tr>\n",
       "  </tbody>\n",
       "</table>\n",
       "</div>"
      ],
      "text/plain": [
       "    ID  RecipeNumber  RecipeCode                              RecipeName  \\\n",
       "0   70            71       12259  Banana Bars with Cream Cheese Frosting   \n",
       "1   72            88        8202                        Simple Taco Soup   \n",
       "2  458             3        2832                       Cheeseburger Soup   \n",
       "3    7            50      100276               Grilled Huli Huli Chicken   \n",
       "4   60            12       19731                        Cauliflower Soup   \n",
       "\n",
       "                     CommentID                         UserID        UserName  \\\n",
       "0   sp_aUSaElGf_12259_c_149978  u_1oKVaBmiEKwAFyiHrDLoWpbel0J   misscoffeepot   \n",
       "1    sp_aUSaElGf_8202_c_310332  u_1oKZeRIXYzGNhGW8OMR3O4lX1ih  MichelleMalone   \n",
       "2    sp_aUSaElGf_2832_c_206522  u_1oKYHUtdaD48KJCDYq5wfpAUxWz       jeannem32   \n",
       "3  sp_aUSaElGf_100276_c_434088  u_1oKZCQcKQZdQhDVBS7oISc216VA           ds422   \n",
       "4   sp_aUSaElGf_19731_c_387011  u_1oKd4sudZQPgu6YALiC7bW7mKMs     SusanHoward   \n",
       "\n",
       "   UserReputation  CreationTimestamp  ReplyCount  ThumbsUpCount  \\\n",
       "0              20         1622717078           0              0   \n",
       "1               1         1622717852           0              0   \n",
       "2               1         1622717357           0              0   \n",
       "3               1         1622648899           0              0   \n",
       "4               1         1622718260           0              0   \n",
       "\n",
       "   ThumbsDownCount  Rating  BestScore  \\\n",
       "0                0       5        100   \n",
       "1                1       5        100   \n",
       "2                0       3        100   \n",
       "3                0       5        100   \n",
       "4                0       4        100   \n",
       "\n",
       "                                       Recipe_Review  \n",
       "0  great recipe! I have made them just as written...  \n",
       "1  This is an easy and quick recipe that is great...  \n",
       "2  I think I was looking for something extra spec...  \n",
       "3  This is our favorite grilled chicken recipe.  ...  \n",
       "4  Great basic recipe. I added 2 teaspoons Tuscan...  "
      ]
     },
     "execution_count": 13,
     "metadata": {},
     "output_type": "execute_result"
    }
   ],
   "source": [
    "imputed_data.head()"
   ]
  },
  {
   "cell_type": "code",
   "execution_count": 14,
   "id": "8b06b643",
   "metadata": {
    "execution": {
     "iopub.execute_input": "2024-04-10T16:51:22.268269Z",
     "iopub.status.busy": "2024-04-10T16:51:22.267700Z",
     "iopub.status.idle": "2024-04-10T16:51:22.524958Z",
     "shell.execute_reply": "2024-04-10T16:51:22.523793Z"
    },
    "papermill": {
     "duration": 0.291192,
     "end_time": "2024-04-10T16:51:22.527457",
     "exception": false,
     "start_time": "2024-04-10T16:51:22.236265",
     "status": "completed"
    },
    "tags": []
   },
   "outputs": [
    {
     "name": "stderr",
     "output_type": "stream",
     "text": [
      "/opt/conda/lib/python3.10/site-packages/seaborn/_oldcore.py:1119: FutureWarning: use_inf_as_na option is deprecated and will be removed in a future version. Convert inf values to NaN before operating instead.\n",
      "  with pd.option_context('mode.use_inf_as_na', True):\n"
     ]
    },
    {
     "data": {
      "text/plain": [
       "<Axes: xlabel='Rating', ylabel='Count'>"
      ]
     },
     "execution_count": 14,
     "metadata": {},
     "output_type": "execute_result"
    },
    {
     "data": {
      "image/png": "[encoded data removed]",
      "text/plain": [
       "<Figure size 640x480 with 1 Axes>"
      ]
     },
     "metadata": {},
     "output_type": "display_data"
    }
   ],
   "source": [
    "#histplot for Rating column\n",
    "sns.histplot(\n",
    "imputed_data,\n",
    "x = imputed_data['Rating'])"
   ]
  },
  {
   "cell_type": "code",
   "execution_count": 15,
   "id": "94c39c47",
   "metadata": {
    "execution": {
     "iopub.execute_input": "2024-04-10T16:51:22.594381Z",
     "iopub.status.busy": "2024-04-10T16:51:22.593408Z",
     "iopub.status.idle": "2024-04-10T16:51:22.844910Z",
     "shell.execute_reply": "2024-04-10T16:51:22.843735Z"
    },
    "papermill": {
     "duration": 0.288709,
     "end_time": "2024-04-10T16:51:22.847570",
     "exception": false,
     "start_time": "2024-04-10T16:51:22.558861",
     "status": "completed"
    },
    "tags": []
   },
   "outputs": [
    {
     "name": "stderr",
     "output_type": "stream",
     "text": [
      "/opt/conda/lib/python3.10/site-packages/seaborn/_oldcore.py:1119: FutureWarning: use_inf_as_na option is deprecated and will be removed in a future version. Convert inf values to NaN before operating instead.\n",
      "  with pd.option_context('mode.use_inf_as_na', True):\n"
     ]
    },
    {
     "data": {
      "text/plain": [
       "<Axes: xlabel='BestScore', ylabel='Count'>"
      ]
     },
     "execution_count": 15,
     "metadata": {},
     "output_type": "execute_result"
    },
    {
     "data": {
      "image/png": "[encoded data removed]",
      "text/plain": [
       "<Figure size 640x480 with 1 Axes>"
      ]
     },
     "metadata": {},
     "output_type": "display_data"
    }
   ],
   "source": [
    "#histplot for BestScore\n",
    "sns.histplot(\n",
    "imputed_data,\n",
    "x = imputed_data['BestScore'])"
   ]
  },
  {
   "cell_type": "code",
   "execution_count": null,
   "id": "2dbb0b33",
   "metadata": {
    "papermill": {
     "duration": 0.031625,
     "end_time": "2024-04-10T16:51:22.913078",
     "exception": false,
     "start_time": "2024-04-10T16:51:22.881453",
     "status": "completed"
    },
    "tags": []
   },
   "outputs": [],
   "source": []
  },
  {
   "cell_type": "code",
   "execution_count": 16,
   "id": "9846ba5b",
   "metadata": {
    "execution": {
     "iopub.execute_input": "2024-04-10T16:51:22.979789Z",
     "iopub.status.busy": "2024-04-10T16:51:22.979352Z",
     "iopub.status.idle": "2024-04-10T16:51:22.989116Z",
     "shell.execute_reply": "2024-04-10T16:51:22.987892Z"
    },
    "papermill": {
     "duration": 0.045465,
     "end_time": "2024-04-10T16:51:22.991391",
     "exception": false,
     "start_time": "2024-04-10T16:51:22.945926",
     "status": "completed"
    },
    "tags": []
   },
   "outputs": [
    {
     "data": {
      "text/plain": [
       "RecipeName       object\n",
       "CommentID        object\n",
       "UserID           object\n",
       "UserName         object\n",
       "Recipe_Review    object\n",
       "dtype: object"
      ]
     },
     "execution_count": 16,
     "metadata": {},
     "output_type": "execute_result"
    }
   ],
   "source": [
    "imputed_data.dtypes[imputed_data.dtypes=='object']"
   ]
  },
  {
   "cell_type": "code",
   "execution_count": 17,
   "id": "69f54b2a",
   "metadata": {
    "execution": {
     "iopub.execute_input": "2024-04-10T16:51:23.057186Z",
     "iopub.status.busy": "2024-04-10T16:51:23.056765Z",
     "iopub.status.idle": "2024-04-10T16:51:23.066516Z",
     "shell.execute_reply": "2024-04-10T16:51:23.065424Z"
    },
    "papermill": {
     "duration": 0.045326,
     "end_time": "2024-04-10T16:51:23.068735",
     "exception": false,
     "start_time": "2024-04-10T16:51:23.023409",
     "status": "completed"
    },
    "tags": []
   },
   "outputs": [
    {
     "data": {
      "text/plain": [
       "ID                   int64\n",
       "RecipeNumber         int64\n",
       "RecipeCode           int64\n",
       "UserReputation       int64\n",
       "CreationTimestamp    int64\n",
       "ReplyCount           int64\n",
       "ThumbsUpCount        int64\n",
       "ThumbsDownCount      int64\n",
       "Rating               int64\n",
       "BestScore            int64\n",
       "dtype: object"
      ]
     },
     "execution_count": 17,
     "metadata": {},
     "output_type": "execute_result"
    }
   ],
   "source": [
    "imputed_data.dtypes[imputed_data.dtypes != 'object']"
   ]
  },
  {
   "cell_type": "markdown",
   "id": "e3101cb6",
   "metadata": {
    "papermill": {
     "duration": 0.031732,
     "end_time": "2024-04-10T16:51:23.133332",
     "exception": false,
     "start_time": "2024-04-10T16:51:23.101600",
     "status": "completed"
    },
    "tags": []
   },
   "source": [
    "# RandomForestClassifier"
   ]
  },
  {
   "cell_type": "code",
   "execution_count": 18,
   "id": "70ee8c72",
   "metadata": {
    "execution": {
     "iopub.execute_input": "2024-04-10T16:51:23.201214Z",
     "iopub.status.busy": "2024-04-10T16:51:23.200187Z",
     "iopub.status.idle": "2024-04-10T16:51:44.972692Z",
     "shell.execute_reply": "2024-04-10T16:51:44.971449Z"
    },
    "papermill": {
     "duration": 21.809894,
     "end_time": "2024-04-10T16:51:44.975170",
     "exception": false,
     "start_time": "2024-04-10T16:51:23.165276",
     "status": "completed"
    },
    "tags": []
   },
   "outputs": [
    {
     "name": "stdout",
     "output_type": "stream",
     "text": [
      "Accuracy: 0.7595307917888563\n"
     ]
    }
   ],
   "source": [
    "from sklearn.model_selection import train_test_split ,GridSearchCV, cross_val_score\n",
    "from sklearn.preprocessing import StandardScaler, OneHotEncoder\n",
    "from sklearn.compose import ColumnTransformer\n",
    "from sklearn.pipeline import Pipeline\n",
    "from sklearn.ensemble import RandomForestClassifier\n",
    "from sklearn.metrics import accuracy_score\n",
    "from sklearn.metrics import confusion_matrix\n",
    "# Splitting features and target variable\n",
    "X = imputed_data.drop(columns=['Rating'])\n",
    "y = imputed_data['Rating']\n",
    "\n",
    "# Splitting the dataset into train and val sets\n",
    "X_train, X_val, y_train, y_val = train_test_split(X, y, test_size=0.2, random_state=42)\n",
    "\n",
    "# Preprocessing numerical features and categorical features\n",
    "numeric_features = X.select_dtypes(include=['int64']).columns\n",
    "numeric_transformer = StandardScaler()\n",
    "\n",
    "categorical_features = X.select_dtypes(include=['object']).columns\n",
    "categorical_transformer = OneHotEncoder(handle_unknown='ignore')\n",
    "\n",
    "# Column Transformer \n",
    "preprocessor = ColumnTransformer(\n",
    "    transformers=[\n",
    "        ('num', numeric_transformer, numeric_features),\n",
    "        ('cat', categorical_transformer, categorical_features)\n",
    "    ])\n",
    "\n",
    "# Pipeline with preprocessing and classifier\n",
    "pipeline = Pipeline([\n",
    "    ('preprocessor', preprocessor),\n",
    "    ('classifier', RandomForestClassifier(random_state=42))\n",
    "])\n",
    "\n",
    "pipeline.fit(X_train, y_train)\n",
    "\n",
    "y_pred = pipeline.predict(X_val)\n",
    "\n",
    "# Evaluate the model\n",
    "accuracy = accuracy_score(y_val, y_pred)\n",
    "print(\"Accuracy:\", accuracy)\n"
   ]
  },
  {
   "cell_type": "code",
   "execution_count": null,
   "id": "2b6f7004",
   "metadata": {
    "papermill": {
     "duration": 0.032375,
     "end_time": "2024-04-10T16:51:45.039582",
     "exception": false,
     "start_time": "2024-04-10T16:51:45.007207",
     "status": "completed"
    },
    "tags": []
   },
   "outputs": [],
   "source": []
  },
  {
   "cell_type": "markdown",
   "id": "623db0e5",
   "metadata": {
    "papermill": {
     "duration": 0.031824,
     "end_time": "2024-04-10T16:51:45.104182",
     "exception": false,
     "start_time": "2024-04-10T16:51:45.072358",
     "status": "completed"
    },
    "tags": []
   },
   "source": [
    "> ****Hyper-parameters grid for RandomForestClassifier****"
   ]
  },
  {
   "cell_type": "code",
   "execution_count": 19,
   "id": "b4a38c49",
   "metadata": {
    "execution": {
     "iopub.execute_input": "2024-04-10T16:51:45.170416Z",
     "iopub.status.busy": "2024-04-10T16:51:45.169966Z",
     "iopub.status.idle": "2024-04-10T17:07:02.627460Z",
     "shell.execute_reply": "2024-04-10T17:07:02.626272Z"
    },
    "papermill": {
     "duration": 917.493468,
     "end_time": "2024-04-10T17:07:02.629754",
     "exception": false,
     "start_time": "2024-04-10T16:51:45.136286",
     "status": "completed"
    },
    "tags": []
   },
   "outputs": [
    {
     "name": "stdout",
     "output_type": "stream",
     "text": [
      "Fitting 5 folds for each of 81 candidates, totalling 405 fits\n",
      "Best parameters found: {'classifier__max_depth': None, 'classifier__min_samples_leaf': 1, 'classifier__min_samples_split': 2, 'classifier__n_estimators': 50}\n",
      "Accuracy: 0.7591642228739003\n"
     ]
    }
   ],
   "source": [
    "param_grid = {\n",
    "    'classifier__n_estimators': [50, 100, 150],\n",
    "    'classifier__max_depth': [None, 10, 20],\n",
    "    'classifier__min_samples_split': [2, 5, 10],\n",
    "    'classifier__min_samples_leaf': [1, 2, 4]\n",
    "}\n",
    "grid_search = GridSearchCV(pipeline, param_grid, cv=5, scoring='accuracy', verbose=1)\n",
    "\n",
    "# Fit the model and printing the Best parameters\n",
    "grid_search.fit(X_train, y_train)\n",
    "print(\"Best parameters found:\", grid_search.best_params_)\n",
    "\n",
    "# Predictions\n",
    "gs_pred = grid_search.predict(X_val)\n",
    "\n",
    "# Evaluate the model\n",
    "gs_accuracy = accuracy_score(y_val, gs_pred)\n",
    "print(\"Accuracy:\", gs_accuracy)"
   ]
  },
  {
   "cell_type": "code",
   "execution_count": null,
   "id": "ef8a5dc8",
   "metadata": {
    "papermill": {
     "duration": 0.032099,
     "end_time": "2024-04-10T17:07:02.694157",
     "exception": false,
     "start_time": "2024-04-10T17:07:02.662058",
     "status": "completed"
    },
    "tags": []
   },
   "outputs": [],
   "source": []
  },
  {
   "cell_type": "markdown",
   "id": "836b5aa2",
   "metadata": {
    "papermill": {
     "duration": 0.031853,
     "end_time": "2024-04-10T17:07:02.758500",
     "exception": false,
     "start_time": "2024-04-10T17:07:02.726647",
     "status": "completed"
    },
    "tags": []
   },
   "source": [
    "> **CROSS VALIDATION SCORE**"
   ]
  },
  {
   "cell_type": "code",
   "execution_count": 20,
   "id": "9c1719b6",
   "metadata": {
    "execution": {
     "iopub.execute_input": "2024-04-10T17:07:02.825368Z",
     "iopub.status.busy": "2024-04-10T17:07:02.824332Z",
     "iopub.status.idle": "2024-04-10T17:07:29.929870Z",
     "shell.execute_reply": "2024-04-10T17:07:29.928678Z"
    },
    "papermill": {
     "duration": 27.14169,
     "end_time": "2024-04-10T17:07:29.932643",
     "exception": false,
     "start_time": "2024-04-10T17:07:02.790953",
     "status": "completed"
    },
    "tags": []
   },
   "outputs": [
    {
     "name": "stdout",
     "output_type": "stream",
     "text": [
      "Cross-validation scores: [0.76420975 0.76310964 0.76640997 0.76714338]\n",
      "Mean CV accuracy: 0.7652181884855151\n"
     ]
    }
   ],
   "source": [
    "# cross validation \n",
    "cv_scores = cross_val_score(grid_search.best_estimator_, X_train, y_train, cv=4)\n",
    "print(\"Cross-validation scores:\", cv_scores)\n",
    "print(\"Mean CV accuracy:\", cv_scores.mean())"
   ]
  },
  {
   "cell_type": "code",
   "execution_count": 21,
   "id": "5d5b1bb8",
   "metadata": {
    "execution": {
     "iopub.execute_input": "2024-04-10T17:07:30.001485Z",
     "iopub.status.busy": "2024-04-10T17:07:30.000827Z",
     "iopub.status.idle": "2024-04-10T17:07:30.374172Z",
     "shell.execute_reply": "2024-04-10T17:07:30.372817Z"
    },
    "papermill": {
     "duration": 0.411992,
     "end_time": "2024-04-10T17:07:30.376932",
     "exception": false,
     "start_time": "2024-04-10T17:07:29.964940",
     "status": "completed"
    },
    "tags": []
   },
   "outputs": [
    {
     "data": {
      "image/png": "[encoded data removed]",
      "text/plain": [
       "<Figure size 500x400 with 2 Axes>"
      ]
     },
     "metadata": {},
     "output_type": "display_data"
    }
   ],
   "source": [
    "#confusion matrix\n",
    "rf_conf_matrix = confusion_matrix(y_val, y_pred)\n",
    "plt.figure(figsize=(5, 4))\n",
    "sns.heatmap(rf_conf_matrix, annot=True, fmt=\"d\", cmap=\"Blues\", cbar=True)\n",
    "plt.xlabel('Predicted labels')\n",
    "plt.ylabel('True labels')\n",
    "plt.title('Confusion Matrix')\n",
    "plt.show()"
   ]
  },
  {
   "cell_type": "code",
   "execution_count": null,
   "id": "5a582b85",
   "metadata": {
    "papermill": {
     "duration": 0.032407,
     "end_time": "2024-04-10T17:07:30.442372",
     "exception": false,
     "start_time": "2024-04-10T17:07:30.409965",
     "status": "completed"
    },
    "tags": []
   },
   "outputs": [],
   "source": []
  },
  {
   "cell_type": "markdown",
   "id": "248c49f7",
   "metadata": {
    "papermill": {
     "duration": 0.032178,
     "end_time": "2024-04-10T17:07:30.507284",
     "exception": false,
     "start_time": "2024-04-10T17:07:30.475106",
     "status": "completed"
    },
    "tags": []
   },
   "source": [
    "# LogisticRegression Classifier"
   ]
  },
  {
   "cell_type": "code",
   "execution_count": 22,
   "id": "c3f6594f",
   "metadata": {
    "execution": {
     "iopub.execute_input": "2024-04-10T17:07:30.574571Z",
     "iopub.status.busy": "2024-04-10T17:07:30.574139Z",
     "iopub.status.idle": "2024-04-10T17:07:30.579423Z",
     "shell.execute_reply": "2024-04-10T17:07:30.578599Z"
    },
    "papermill": {
     "duration": 0.041238,
     "end_time": "2024-04-10T17:07:30.581368",
     "exception": false,
     "start_time": "2024-04-10T17:07:30.540130",
     "status": "completed"
    },
    "tags": []
   },
   "outputs": [],
   "source": [
    "from sklearn.linear_model import LogisticRegression\n",
    "pipeline2 = Pipeline([\n",
    "    ('preprocessor', preprocessor),\n",
    "    ('classifier',LogisticRegression(max_iter=1000))\n",
    "])\n"
   ]
  },
  {
   "cell_type": "markdown",
   "id": "c610f9ce",
   "metadata": {
    "papermill": {
     "duration": 0.032264,
     "end_time": "2024-04-10T17:07:30.646283",
     "exception": false,
     "start_time": "2024-04-10T17:07:30.614019",
     "status": "completed"
    },
    "tags": []
   },
   "source": [
    "> **Hyper-parameters grid for LogisticRegression**"
   ]
  },
  {
   "cell_type": "code",
   "execution_count": 23,
   "id": "b5c36ac0",
   "metadata": {
    "execution": {
     "iopub.execute_input": "2024-04-10T17:07:30.713181Z",
     "iopub.status.busy": "2024-04-10T17:07:30.712770Z",
     "iopub.status.idle": "2024-04-10T17:09:00.148916Z",
     "shell.execute_reply": "2024-04-10T17:09:00.147759Z"
    },
    "papermill": {
     "duration": 89.50483,
     "end_time": "2024-04-10T17:09:00.183816",
     "exception": false,
     "start_time": "2024-04-10T17:07:30.678986",
     "status": "completed"
    },
    "tags": []
   },
   "outputs": [
    {
     "name": "stdout",
     "output_type": "stream",
     "text": [
      "Fitting 5 folds for each of 12 candidates, totalling 60 fits\n",
      "Best parameters found: {'classifier__C': 100, 'classifier__penalty': 'l2', 'classifier__solver': 'liblinear'}\n",
      "Accuracy: 0.7628299120234604\n"
     ]
    }
   ],
   "source": [
    "\n",
    "logit_param_grid = {\n",
    "    'classifier__C': [0.001, 0.01, 0.1, 1, 10, 100],\n",
    "    'classifier__penalty': ['l1', 'l2'],\n",
    "    'classifier__solver': ['liblinear']\n",
    "}\n",
    "\n",
    "# GridSearchCV\n",
    "logit_grid_search = GridSearchCV(pipeline2, logit_param_grid, cv=5, scoring='accuracy', verbose=1)\n",
    "\n",
    "# Fit the model\n",
    "logit_grid_search.fit(X_train, y_train)\n",
    "\n",
    "# Best parameters\n",
    "print(\"Best parameters found:\", logit_grid_search.best_params_)\n",
    "\n",
    "# Predictions\n",
    "lgs_pred = logit_grid_search.predict(X_val)\n",
    "\n",
    "# Evaluate the model\n",
    "lgs_accuracy = accuracy_score(y_val, lgs_pred)\n",
    "print(\"Accuracy:\", lgs_accuracy)"
   ]
  },
  {
   "cell_type": "code",
   "execution_count": 24,
   "id": "0c5355e2",
   "metadata": {
    "execution": {
     "iopub.execute_input": "2024-04-10T17:09:00.252602Z",
     "iopub.status.busy": "2024-04-10T17:09:00.251224Z",
     "iopub.status.idle": "2024-04-10T17:09:00.610368Z",
     "shell.execute_reply": "2024-04-10T17:09:00.608994Z"
    },
    "papermill": {
     "duration": 0.395791,
     "end_time": "2024-04-10T17:09:00.612533",
     "exception": false,
     "start_time": "2024-04-10T17:09:00.216742",
     "status": "completed"
    },
    "tags": []
   },
   "outputs": [
    {
     "data": {
      "image/png": "[encoded data removed]",
      "text/plain": [
       "<Figure size 500x400 with 2 Axes>"
      ]
     },
     "metadata": {},
     "output_type": "display_data"
    }
   ],
   "source": [
    "#Confusion matrix\n",
    "lgs_conf_matrix = confusion_matrix(y_val, lgs_pred)\n",
    "plt.figure(figsize=(5, 4))\n",
    "sns.heatmap(lgs_conf_matrix, annot=True, fmt=\"d\", cmap=\"Blues\", cbar=True)\n",
    "plt.xlabel('Predicted labels')\n",
    "plt.ylabel('True labels')\n",
    "plt.title('Confusion Matrix')\n",
    "plt.show()"
   ]
  },
  {
   "cell_type": "code",
   "execution_count": 25,
   "id": "8e10728c",
   "metadata": {
    "execution": {
     "iopub.execute_input": "2024-04-10T17:09:00.681260Z",
     "iopub.status.busy": "2024-04-10T17:09:00.680827Z",
     "iopub.status.idle": "2024-04-10T17:09:26.028508Z",
     "shell.execute_reply": "2024-04-10T17:09:26.027639Z"
    },
    "papermill": {
     "duration": 25.384648,
     "end_time": "2024-04-10T17:09:26.030679",
     "exception": false,
     "start_time": "2024-04-10T17:09:00.646031",
     "status": "completed"
    },
    "tags": []
   },
   "outputs": [
    {
     "name": "stdout",
     "output_type": "stream",
     "text": [
      "Cross-validation scores: [0.76796188 0.7697103  0.76861019 0.76530986 0.76640997]\n",
      "Mean CV accuracy: 0.767600442839983\n"
     ]
    }
   ],
   "source": [
    "#cross validation\n",
    "logit_cv_scores = cross_val_score(logit_grid_search.best_estimator_, X, y, cv=5)\n",
    "print(\"Cross-validation scores:\", logit_cv_scores)\n",
    "print(\"Mean CV accuracy:\", logit_cv_scores.mean())"
   ]
  },
  {
   "cell_type": "markdown",
   "id": "82c4c3ad",
   "metadata": {
    "papermill": {
     "duration": 0.033232,
     "end_time": "2024-04-10T17:09:26.097913",
     "exception": false,
     "start_time": "2024-04-10T17:09:26.064681",
     "status": "completed"
    },
    "tags": []
   },
   "source": [
    "# KNEIGHBORS CLASSIFIER"
   ]
  },
  {
   "cell_type": "code",
   "execution_count": 26,
   "id": "0c8a769e",
   "metadata": {
    "execution": {
     "iopub.execute_input": "2024-04-10T17:09:26.169376Z",
     "iopub.status.busy": "2024-04-10T17:09:26.168962Z",
     "iopub.status.idle": "2024-04-10T17:09:26.173660Z",
     "shell.execute_reply": "2024-04-10T17:09:26.172540Z"
    },
    "papermill": {
     "duration": 0.04192,
     "end_time": "2024-04-10T17:09:26.175693",
     "exception": false,
     "start_time": "2024-04-10T17:09:26.133773",
     "status": "completed"
    },
    "tags": []
   },
   "outputs": [],
   "source": [
    "#importing Kneighbors Classifier\n",
    "from sklearn.neighbors import KNeighborsClassifier"
   ]
  },
  {
   "cell_type": "code",
   "execution_count": 27,
   "id": "e63a5ad4",
   "metadata": {
    "execution": {
     "iopub.execute_input": "2024-04-10T17:09:26.249988Z",
     "iopub.status.busy": "2024-04-10T17:09:26.248970Z",
     "iopub.status.idle": "2024-04-10T17:09:28.767818Z",
     "shell.execute_reply": "2024-04-10T17:09:28.766768Z"
    },
    "papermill": {
     "duration": 2.561085,
     "end_time": "2024-04-10T17:09:28.770460",
     "exception": false,
     "start_time": "2024-04-10T17:09:26.209375",
     "status": "completed"
    },
    "tags": []
   },
   "outputs": [],
   "source": [
    "#Using the same pipeline for the kneighbors classifier\n",
    "pipeline3 = Pipeline([\n",
    "    ('preprocessor', preprocessor),\n",
    "    ('classifier',KNeighborsClassifier())\n",
    "])\n",
    "\n",
    "pipeline3.fit(X_train,y_train)\n",
    "\n",
    "knn_pred = pipeline3.predict(X_val) # model prediction"
   ]
  },
  {
   "cell_type": "markdown",
   "id": "9a3f6089",
   "metadata": {
    "papermill": {
     "duration": 0.033846,
     "end_time": "2024-04-10T17:09:28.838457",
     "exception": false,
     "start_time": "2024-04-10T17:09:28.804611",
     "status": "completed"
    },
    "tags": []
   },
   "source": [
    ">  **HYPERPARAMETERS GRIDSEARCHCV FOR KNN**"
   ]
  },
  {
   "cell_type": "code",
   "execution_count": 28,
   "id": "40a5c687",
   "metadata": {
    "execution": {
     "iopub.execute_input": "2024-04-10T17:09:28.907632Z",
     "iopub.status.busy": "2024-04-10T17:09:28.907232Z",
     "iopub.status.idle": "2024-04-10T17:14:20.938223Z",
     "shell.execute_reply": "2024-04-10T17:14:20.937286Z"
    },
    "papermill": {
     "duration": 292.068836,
     "end_time": "2024-04-10T17:14:20.940986",
     "exception": false,
     "start_time": "2024-04-10T17:09:28.872150",
     "status": "completed"
    },
    "tags": []
   },
   "outputs": [
    {
     "name": "stdout",
     "output_type": "stream",
     "text": [
      "Fitting 5 folds for each of 24 candidates, totalling 120 fits\n",
      "Best parameters found: {'classifier__algorithm': 'brute', 'classifier__leaf_size': 10, 'classifier__n_neighbors': 9, 'classifier__weights': 'distance'}\n",
      "Accuracy: 1.0\n"
     ]
    }
   ],
   "source": [
    "#Grid parameters\n",
    "knn_param_grid = {\n",
    "    'classifier__n_neighbors': [3, 5, 7, 9],\n",
    "    'classifier__weights': ['uniform', 'distance'],\n",
    "    'classifier__algorithm': ['brute'],\n",
    "    'classifier__leaf_size': [10, 20, 30],\n",
    "}\n",
    "\n",
    "knn_grid_search = GridSearchCV(pipeline3, knn_param_grid, cv=5, scoring='accuracy', verbose=1)\n",
    "\n",
    "# Fit the model and printing the Best parameters\n",
    "knn_grid_search.fit(X, y)\n",
    "\n",
    "\n",
    "print(\"Best parameters found:\", knn_grid_search.best_params_)\n",
    "\n",
    "knn_gs_pred = knn_grid_search.predict(X_val)\n",
    "\n",
    "# Evaluate the model\n",
    "knn_gs_accuracy = accuracy_score(y_val, knn_gs_pred)\n",
    "print(\"Accuracy:\", knn_gs_accuracy)"
   ]
  },
  {
   "cell_type": "code",
   "execution_count": 29,
   "id": "b66f3408",
   "metadata": {
    "execution": {
     "iopub.execute_input": "2024-04-10T17:14:21.011966Z",
     "iopub.status.busy": "2024-04-10T17:14:21.011211Z",
     "iopub.status.idle": "2024-04-10T17:14:35.288639Z",
     "shell.execute_reply": "2024-04-10T17:14:35.287770Z"
    },
    "papermill": {
     "duration": 14.315712,
     "end_time": "2024-04-10T17:14:35.291528",
     "exception": false,
     "start_time": "2024-04-10T17:14:20.975816",
     "status": "completed"
    },
    "tags": []
   },
   "outputs": [
    {
     "name": "stdout",
     "output_type": "stream",
     "text": [
      "Cross-validation scores: [0.76319648 0.77052786 0.76686217 0.77346041 0.76539589 0.76979472\n",
      " 0.75862069 0.77769626 0.76815847 0.76815847]\n",
      "Mean CV accuracy: 0.7681871432474939\n"
     ]
    }
   ],
   "source": [
    "#Cross valdidation \n",
    "knn_cv_scores = cross_val_score(knn_grid_search.best_estimator_, X, y, cv=10)\n",
    "print(\"Cross-validation scores:\", knn_cv_scores)\n",
    "print(\"Mean CV accuracy:\", knn_cv_scores.mean())"
   ]
  },
  {
   "cell_type": "code",
   "execution_count": 30,
   "id": "716666d5",
   "metadata": {
    "execution": {
     "iopub.execute_input": "2024-04-10T17:14:35.364299Z",
     "iopub.status.busy": "2024-04-10T17:14:35.363864Z",
     "iopub.status.idle": "2024-04-10T17:14:35.728427Z",
     "shell.execute_reply": "2024-04-10T17:14:35.727075Z"
    },
    "papermill": {
     "duration": 0.403271,
     "end_time": "2024-04-10T17:14:35.731001",
     "exception": false,
     "start_time": "2024-04-10T17:14:35.327730",
     "status": "completed"
    },
    "tags": []
   },
   "outputs": [
    {
     "data": {
      "image/png": "[encoded data removed]",
      "text/plain": [
       "<Figure size 500x400 with 2 Axes>"
      ]
     },
     "metadata": {},
     "output_type": "display_data"
    }
   ],
   "source": [
    "#Confusion matrix\n",
    "knn_conf_matrix = confusion_matrix(y_val, knn_gs_pred)\n",
    "plt.figure(figsize=(5, 4))\n",
    "sns.heatmap(knn_conf_matrix, annot=True, fmt=\"d\", cmap=\"Blues\", cbar=True)\n",
    "plt.xlabel('Predicted labels')\n",
    "plt.ylabel('True labels')\n",
    "plt.title('Confusion Matrix')\n",
    "plt.show()\n"
   ]
  },
  {
   "cell_type": "markdown",
   "id": "bf6acabd",
   "metadata": {
    "papermill": {
     "duration": 0.034045,
     "end_time": "2024-04-10T17:14:35.799848",
     "exception": false,
     "start_time": "2024-04-10T17:14:35.765803",
     "status": "completed"
    },
    "tags": []
   },
   "source": [
    "# Model comparision using precision , recall , f1_score "
   ]
  },
  {
   "cell_type": "code",
   "execution_count": 31,
   "id": "d53fc375",
   "metadata": {
    "execution": {
     "iopub.execute_input": "2024-04-10T17:14:35.870396Z",
     "iopub.status.busy": "2024-04-10T17:14:35.870003Z",
     "iopub.status.idle": "2024-04-10T17:14:35.889731Z",
     "shell.execute_reply": "2024-04-10T17:14:35.888478Z"
    },
    "papermill": {
     "duration": 0.059167,
     "end_time": "2024-04-10T17:14:35.893442",
     "exception": false,
     "start_time": "2024-04-10T17:14:35.834275",
     "status": "completed"
    },
    "tags": []
   },
   "outputs": [
    {
     "name": "stdout",
     "output_type": "stream",
     "text": [
      "              precision    recall  f1-score   support\n",
      "\n",
      "           0       0.62      0.06      0.11       257\n",
      "           1       0.00      0.00      0.00        41\n",
      "           2       0.00      0.00      0.00        34\n",
      "           3       1.00      0.01      0.02        85\n",
      "           4       0.00      0.00      0.00       250\n",
      "           5       0.76      1.00      0.86      2061\n",
      "\n",
      "    accuracy                           0.76      2728\n",
      "   macro avg       0.40      0.18      0.17      2728\n",
      "weighted avg       0.66      0.76      0.66      2728\n",
      "\n"
     ]
    },
    {
     "name": "stderr",
     "output_type": "stream",
     "text": [
      "/opt/conda/lib/python3.10/site-packages/sklearn/metrics/_classification.py:1344: UndefinedMetricWarning: Precision and F-score are ill-defined and being set to 0.0 in labels with no predicted samples. Use `zero_division` parameter to control this behavior.\n",
      "  _warn_prf(average, modifier, msg_start, len(result))\n",
      "/opt/conda/lib/python3.10/site-packages/sklearn/metrics/_classification.py:1344: UndefinedMetricWarning: Precision and F-score are ill-defined and being set to 0.0 in labels with no predicted samples. Use `zero_division` parameter to control this behavior.\n",
      "  _warn_prf(average, modifier, msg_start, len(result))\n",
      "/opt/conda/lib/python3.10/site-packages/sklearn/metrics/_classification.py:1344: UndefinedMetricWarning: Precision and F-score are ill-defined and being set to 0.0 in labels with no predicted samples. Use `zero_division` parameter to control this behavior.\n",
      "  _warn_prf(average, modifier, msg_start, len(result))\n"
     ]
    }
   ],
   "source": [
    "#Classification Report of RandomForestClassifie\n",
    "from sklearn.metrics import classification_report\n",
    "print(classification_report(y_val, gs_pred))"
   ]
  },
  {
   "cell_type": "code",
   "execution_count": 32,
   "id": "525415d5",
   "metadata": {
    "execution": {
     "iopub.execute_input": "2024-04-10T17:14:35.965837Z",
     "iopub.status.busy": "2024-04-10T17:14:35.965389Z",
     "iopub.status.idle": "2024-04-10T17:14:35.984505Z",
     "shell.execute_reply": "2024-04-10T17:14:35.983398Z"
    },
    "papermill": {
     "duration": 0.059567,
     "end_time": "2024-04-10T17:14:35.987980",
     "exception": false,
     "start_time": "2024-04-10T17:14:35.928413",
     "status": "completed"
    },
    "tags": []
   },
   "outputs": [
    {
     "name": "stdout",
     "output_type": "stream",
     "text": [
      "              precision    recall  f1-score   support\n",
      "\n",
      "           0       0.55      0.07      0.12       257\n",
      "           1       0.62      0.12      0.20        41\n",
      "           2       0.00      0.00      0.00        34\n",
      "           3       0.50      0.04      0.07        85\n",
      "           4       0.48      0.06      0.11       250\n",
      "           5       0.77      0.99      0.87      2061\n",
      "\n",
      "    accuracy                           0.76      2728\n",
      "   macro avg       0.49      0.21      0.23      2728\n",
      "weighted avg       0.70      0.76      0.68      2728\n",
      "\n"
     ]
    },
    {
     "name": "stderr",
     "output_type": "stream",
     "text": [
      "/opt/conda/lib/python3.10/site-packages/sklearn/metrics/_classification.py:1344: UndefinedMetricWarning: Precision and F-score are ill-defined and being set to 0.0 in labels with no predicted samples. Use `zero_division` parameter to control this behavior.\n",
      "  _warn_prf(average, modifier, msg_start, len(result))\n",
      "/opt/conda/lib/python3.10/site-packages/sklearn/metrics/_classification.py:1344: UndefinedMetricWarning: Precision and F-score are ill-defined and being set to 0.0 in labels with no predicted samples. Use `zero_division` parameter to control this behavior.\n",
      "  _warn_prf(average, modifier, msg_start, len(result))\n",
      "/opt/conda/lib/python3.10/site-packages/sklearn/metrics/_classification.py:1344: UndefinedMetricWarning: Precision and F-score are ill-defined and being set to 0.0 in labels with no predicted samples. Use `zero_division` parameter to control this behavior.\n",
      "  _warn_prf(average, modifier, msg_start, len(result))\n"
     ]
    }
   ],
   "source": [
    "#Classification Report of LogisticRegression Classifier\n",
    "from sklearn.metrics import classification_report\n",
    "print(classification_report(y_val, lgs_pred))"
   ]
  },
  {
   "cell_type": "code",
   "execution_count": 33,
   "id": "ceec010c",
   "metadata": {
    "execution": {
     "iopub.execute_input": "2024-04-10T17:14:36.060188Z",
     "iopub.status.busy": "2024-04-10T17:14:36.059778Z",
     "iopub.status.idle": "2024-04-10T17:14:36.077039Z",
     "shell.execute_reply": "2024-04-10T17:14:36.075560Z"
    },
    "papermill": {
     "duration": 0.056346,
     "end_time": "2024-04-10T17:14:36.079584",
     "exception": false,
     "start_time": "2024-04-10T17:14:36.023238",
     "status": "completed"
    },
    "tags": []
   },
   "outputs": [
    {
     "name": "stdout",
     "output_type": "stream",
     "text": [
      "              precision    recall  f1-score   support\n",
      "\n",
      "           0       1.00      1.00      1.00       257\n",
      "           1       1.00      1.00      1.00        41\n",
      "           2       1.00      1.00      1.00        34\n",
      "           3       1.00      1.00      1.00        85\n",
      "           4       1.00      1.00      1.00       250\n",
      "           5       1.00      1.00      1.00      2061\n",
      "\n",
      "    accuracy                           1.00      2728\n",
      "   macro avg       1.00      1.00      1.00      2728\n",
      "weighted avg       1.00      1.00      1.00      2728\n",
      "\n"
     ]
    }
   ],
   "source": [
    "#Classification Report of KNEIGHBORS CLASSIFIER\n",
    "from sklearn.metrics import classification_report\n",
    "print(classification_report(y_val, knn_gs_pred))"
   ]
  },
  {
   "cell_type": "markdown",
   "id": "51f4b484",
   "metadata": {
    "papermill": {
     "duration": 0.037129,
     "end_time": "2024-04-10T17:14:36.152739",
     "exception": false,
     "start_time": "2024-04-10T17:14:36.115610",
     "status": "completed"
    },
    "tags": []
   },
   "source": [
    "# final submission using test data"
   ]
  },
  {
   "cell_type": "code",
   "execution_count": 34,
   "id": "1b693422",
   "metadata": {
    "execution": {
     "iopub.execute_input": "2024-04-10T17:14:36.226534Z",
     "iopub.status.busy": "2024-04-10T17:14:36.225773Z",
     "iopub.status.idle": "2024-04-10T17:14:36.297836Z",
     "shell.execute_reply": "2024-04-10T17:14:36.296087Z"
    },
    "papermill": {
     "duration": 0.112719,
     "end_time": "2024-04-10T17:14:36.301155",
     "exception": false,
     "start_time": "2024-04-10T17:14:36.188436",
     "status": "completed"
    },
    "tags": []
   },
   "outputs": [],
   "source": [
    "#Data Loading and preprocessing\n",
    "test = '/kaggle/input/recipe-for-rating-predict-food-ratings-using-ml/test.csv'\n",
    "test_data = pd.read_csv(test)"
   ]
  },
  {
   "cell_type": "code",
   "execution_count": 35,
   "id": "240ba2a1",
   "metadata": {
    "execution": {
     "iopub.execute_input": "2024-04-10T17:14:36.375075Z",
     "iopub.status.busy": "2024-04-10T17:14:36.374361Z",
     "iopub.status.idle": "2024-04-10T17:14:36.385733Z",
     "shell.execute_reply": "2024-04-10T17:14:36.384756Z"
    },
    "papermill": {
     "duration": 0.050584,
     "end_time": "2024-04-10T17:14:36.387948",
     "exception": false,
     "start_time": "2024-04-10T17:14:36.337364",
     "status": "completed"
    },
    "tags": []
   },
   "outputs": [
    {
     "data": {
      "text/plain": [
       "ID                   0\n",
       "RecipeNumber         0\n",
       "RecipeCode           0\n",
       "RecipeName           0\n",
       "CommentID            0\n",
       "UserID               0\n",
       "UserName             0\n",
       "UserReputation       0\n",
       "CreationTimestamp    0\n",
       "ReplyCount           0\n",
       "ThumbsUpCount        0\n",
       "ThumbsDownCount      0\n",
       "BestScore            0\n",
       "Recipe_Review        0\n",
       "dtype: int64"
      ]
     },
     "execution_count": 35,
     "metadata": {},
     "output_type": "execute_result"
    }
   ],
   "source": [
    "test_data.isnull().sum()"
   ]
  },
  {
   "cell_type": "code",
   "execution_count": 36,
   "id": "c4278866",
   "metadata": {
    "execution": {
     "iopub.execute_input": "2024-04-10T17:14:36.460608Z",
     "iopub.status.busy": "2024-04-10T17:14:36.459896Z",
     "iopub.status.idle": "2024-04-10T17:14:36.475253Z",
     "shell.execute_reply": "2024-04-10T17:14:36.473658Z"
    },
    "papermill": {
     "duration": 0.054341,
     "end_time": "2024-04-10T17:14:36.477685",
     "exception": false,
     "start_time": "2024-04-10T17:14:36.423344",
     "status": "completed"
    },
    "tags": []
   },
   "outputs": [
    {
     "name": "stdout",
     "output_type": "stream",
     "text": [
      "<class 'pandas.core.frame.DataFrame'>\n",
      "RangeIndex: 4546 entries, 0 to 4545\n",
      "Data columns (total 14 columns):\n",
      " #   Column             Non-Null Count  Dtype \n",
      "---  ------             --------------  ----- \n",
      " 0   ID                 4546 non-null   int64 \n",
      " 1   RecipeNumber       4546 non-null   int64 \n",
      " 2   RecipeCode         4546 non-null   int64 \n",
      " 3   RecipeName         4546 non-null   object\n",
      " 4   CommentID          4546 non-null   object\n",
      " 5   UserID             4546 non-null   object\n",
      " 6   UserName           4546 non-null   object\n",
      " 7   UserReputation     4546 non-null   int64 \n",
      " 8   CreationTimestamp  4546 non-null   int64 \n",
      " 9   ReplyCount         4546 non-null   int64 \n",
      " 10  ThumbsUpCount      4546 non-null   int64 \n",
      " 11  ThumbsDownCount    4546 non-null   int64 \n",
      " 12  BestScore          4546 non-null   int64 \n",
      " 13  Recipe_Review      4546 non-null   object\n",
      "dtypes: int64(9), object(5)\n",
      "memory usage: 497.3+ KB\n"
     ]
    }
   ],
   "source": [
    "test_data.info()"
   ]
  },
  {
   "cell_type": "code",
   "execution_count": 37,
   "id": "15ec46ce",
   "metadata": {
    "execution": {
     "iopub.execute_input": "2024-04-10T17:14:36.552631Z",
     "iopub.status.busy": "2024-04-10T17:14:36.552236Z",
     "iopub.status.idle": "2024-04-10T17:14:36.557297Z",
     "shell.execute_reply": "2024-04-10T17:14:36.556024Z"
    },
    "papermill": {
     "duration": 0.045903,
     "end_time": "2024-04-10T17:14:36.559907",
     "exception": false,
     "start_time": "2024-04-10T17:14:36.514004",
     "status": "completed"
    },
    "tags": []
   },
   "outputs": [],
   "source": [
    "test_data_updated = test_data"
   ]
  },
  {
   "cell_type": "code",
   "execution_count": 38,
   "id": "97489c7c",
   "metadata": {
    "execution": {
     "iopub.execute_input": "2024-04-10T17:14:36.632265Z",
     "iopub.status.busy": "2024-04-10T17:14:36.631881Z",
     "iopub.status.idle": "2024-04-10T17:14:36.725773Z",
     "shell.execute_reply": "2024-04-10T17:14:36.724690Z"
    },
    "papermill": {
     "duration": 0.132935,
     "end_time": "2024-04-10T17:14:36.728372",
     "exception": false,
     "start_time": "2024-04-10T17:14:36.595437",
     "status": "completed"
    },
    "tags": []
   },
   "outputs": [],
   "source": [
    "#Feature Scaling \n",
    "from sklearn.preprocessing import OneHotEncoder\n",
    "from sklearn.compose import ColumnTransformer\n",
    "transformers = ([\n",
    "    ('ohe1',OneHotEncoder(),['RecipeName','CommentID','UserID','UserName','Recipe_Review'])\n",
    "    ])\n",
    "ct = ColumnTransformer(transformers,verbose_feature_names_out=False)\n",
    "test=ct.fit_transform(test_data_updated)\n",
    "    "
   ]
  },
  {
   "cell_type": "code",
   "execution_count": 39,
   "id": "ac927f8a",
   "metadata": {
    "execution": {
     "iopub.execute_input": "2024-04-10T17:14:36.801883Z",
     "iopub.status.busy": "2024-04-10T17:14:36.801458Z",
     "iopub.status.idle": "2024-04-10T17:14:41.462649Z",
     "shell.execute_reply": "2024-04-10T17:14:41.461716Z"
    },
    "papermill": {
     "duration": 4.700636,
     "end_time": "2024-04-10T17:14:41.465249",
     "exception": false,
     "start_time": "2024-04-10T17:14:36.764613",
     "status": "completed"
    },
    "tags": []
   },
   "outputs": [],
   "source": [
    "X_test = test_data_updated\n",
    "\n",
    "# Predictions\n",
    "knn_gs_pred_test = knn_grid_search.predict(X_test)\n",
    "\n",
    "# Save predictions to a CSV file\n",
    "submission = pd.DataFrame({\"ID\": range(1,4547), \n",
    "                           \"Rating\": knn_gs_pred_test }) \n",
    "\n",
    "submission.to_csv('submission.csv',index=False)\n"
   ]
  },
  {
   "cell_type": "code",
   "execution_count": 40,
   "id": "4fd74dbc",
   "metadata": {
    "execution": {
     "iopub.execute_input": "2024-04-10T17:14:41.543126Z",
     "iopub.status.busy": "2024-04-10T17:14:41.542297Z",
     "iopub.status.idle": "2024-04-10T17:14:41.552908Z",
     "shell.execute_reply": "2024-04-10T17:14:41.551971Z"
    },
    "papermill": {
     "duration": 0.051456,
     "end_time": "2024-04-10T17:14:41.555065",
     "exception": false,
     "start_time": "2024-04-10T17:14:41.503609",
     "status": "completed"
    },
    "tags": []
   },
   "outputs": [
    {
     "data": {
      "text/html": [
       "<div>\n",
       "<style scoped>\n",
       "    .dataframe tbody tr th:only-of-type {\n",
       "        vertical-align: middle;\n",
       "    }\n",
       "\n",
       "    .dataframe tbody tr th {\n",
       "        vertical-align: top;\n",
       "    }\n",
       "\n",
       "    .dataframe thead th {\n",
       "        text-align: right;\n",
       "    }\n",
       "</style>\n",
       "<table border=\"1\" class=\"dataframe\">\n",
       "  <thead>\n",
       "    <tr style=\"text-align: right;\">\n",
       "      <th></th>\n",
       "      <th>ID</th>\n",
       "      <th>Rating</th>\n",
       "    </tr>\n",
       "  </thead>\n",
       "  <tbody>\n",
       "    <tr>\n",
       "      <th>0</th>\n",
       "      <td>1</td>\n",
       "      <td>4</td>\n",
       "    </tr>\n",
       "    <tr>\n",
       "      <th>1</th>\n",
       "      <td>2</td>\n",
       "      <td>5</td>\n",
       "    </tr>\n",
       "    <tr>\n",
       "      <th>2</th>\n",
       "      <td>3</td>\n",
       "      <td>5</td>\n",
       "    </tr>\n",
       "    <tr>\n",
       "      <th>3</th>\n",
       "      <td>4</td>\n",
       "      <td>5</td>\n",
       "    </tr>\n",
       "    <tr>\n",
       "      <th>4</th>\n",
       "      <td>5</td>\n",
       "      <td>5</td>\n",
       "    </tr>\n",
       "    <tr>\n",
       "      <th>...</th>\n",
       "      <td>...</td>\n",
       "      <td>...</td>\n",
       "    </tr>\n",
       "    <tr>\n",
       "      <th>4541</th>\n",
       "      <td>4542</td>\n",
       "      <td>5</td>\n",
       "    </tr>\n",
       "    <tr>\n",
       "      <th>4542</th>\n",
       "      <td>4543</td>\n",
       "      <td>5</td>\n",
       "    </tr>\n",
       "    <tr>\n",
       "      <th>4543</th>\n",
       "      <td>4544</td>\n",
       "      <td>5</td>\n",
       "    </tr>\n",
       "    <tr>\n",
       "      <th>4544</th>\n",
       "      <td>4545</td>\n",
       "      <td>5</td>\n",
       "    </tr>\n",
       "    <tr>\n",
       "      <th>4545</th>\n",
       "      <td>4546</td>\n",
       "      <td>5</td>\n",
       "    </tr>\n",
       "  </tbody>\n",
       "</table>\n",
       "<p>4546 rows × 2 columns</p>\n",
       "</div>"
      ],
      "text/plain": [
       "        ID  Rating\n",
       "0        1       4\n",
       "1        2       5\n",
       "2        3       5\n",
       "3        4       5\n",
       "4        5       5\n",
       "...    ...     ...\n",
       "4541  4542       5\n",
       "4542  4543       5\n",
       "4543  4544       5\n",
       "4544  4545       5\n",
       "4545  4546       5\n",
       "\n",
       "[4546 rows x 2 columns]"
      ]
     },
     "execution_count": 40,
     "metadata": {},
     "output_type": "execute_result"
    }
   ],
   "source": [
    "submission"
   ]
  },
  {
   "cell_type": "code",
   "execution_count": null,
   "id": "253a35c8",
   "metadata": {
    "papermill": {
     "duration": 0.035792,
     "end_time": "2024-04-10T17:14:41.626920",
     "exception": false,
     "start_time": "2024-04-10T17:14:41.591128",
     "status": "completed"
    },
    "tags": []
   },
   "outputs": [],
   "source": []
  },
  {
   "cell_type": "code",
   "execution_count": null,
   "id": "71750518",
   "metadata": {
    "papermill": {
     "duration": 0.035686,
     "end_time": "2024-04-10T17:14:41.699182",
     "exception": false,
     "start_time": "2024-04-10T17:14:41.663496",
     "status": "completed"
    },
    "tags": []
   },
   "outputs": [],
   "source": []
  },
  {
   "cell_type": "code",
   "execution_count": null,
   "id": "53243cb3",
   "metadata": {
    "papermill": {
     "duration": 0.035528,
     "end_time": "2024-04-10T17:14:41.771048",
     "exception": false,
     "start_time": "2024-04-10T17:14:41.735520",
     "status": "completed"
    },
    "tags": []
   },
   "outputs": [],
   "source": []
  },
  {
   "cell_type": "code",
   "execution_count": null,
   "id": "17cfc0d4",
   "metadata": {
    "papermill": {
     "duration": 0.035648,
     "end_time": "2024-04-10T17:14:41.844136",
     "exception": false,
     "start_time": "2024-04-10T17:14:41.808488",
     "status": "completed"
    },
    "tags": []
   },
   "outputs": [],
   "source": [
    "\n"
   ]
  },
  {
   "cell_type": "code",
   "execution_count": null,
   "id": "b82b2911",
   "metadata": {
    "papermill": {
     "duration": 0.035358,
     "end_time": "2024-04-10T17:14:41.915374",
     "exception": false,
     "start_time": "2024-04-10T17:14:41.880016",
     "status": "completed"
    },
    "tags": []
   },
   "outputs": [],
   "source": []
  },
  {
   "cell_type": "code",
   "execution_count": null,
   "id": "accdc6bb",
   "metadata": {
    "papermill": {
     "duration": 0.035624,
     "end_time": "2024-04-10T17:14:41.987265",
     "exception": false,
     "start_time": "2024-04-10T17:14:41.951641",
     "status": "completed"
    },
    "tags": []
   },
   "outputs": [],
   "source": [
    "\n"
   ]
  },
  {
   "cell_type": "code",
   "execution_count": null,
   "id": "2e3c6cee",
   "metadata": {
    "papermill": {
     "duration": 0.035904,
     "end_time": "2024-04-10T17:14:42.062753",
     "exception": false,
     "start_time": "2024-04-10T17:14:42.026849",
     "status": "completed"
    },
    "tags": []
   },
   "outputs": [],
   "source": []
  },
  {
   "cell_type": "code",
   "execution_count": null,
   "id": "6db7e742",
   "metadata": {
    "papermill": {
     "duration": 0.035799,
     "end_time": "2024-04-10T17:14:42.134639",
     "exception": false,
     "start_time": "2024-04-10T17:14:42.098840",
     "status": "completed"
    },
    "tags": []
   },
   "outputs": [],
   "source": []
  },
  {
   "cell_type": "code",
   "execution_count": null,
   "id": "9ad958bb",
   "metadata": {
    "papermill": {
     "duration": 0.035702,
     "end_time": "2024-04-10T17:14:42.207439",
     "exception": false,
     "start_time": "2024-04-10T17:14:42.171737",
     "status": "completed"
    },
    "tags": []
   },
   "outputs": [],
   "source": []
  },
  {
   "cell_type": "code",
   "execution_count": null,
   "id": "40889752",
   "metadata": {
    "papermill": {
     "duration": 0.036217,
     "end_time": "2024-04-10T17:14:42.280500",
     "exception": false,
     "start_time": "2024-04-10T17:14:42.244283",
     "status": "completed"
    },
    "tags": []
   },
   "outputs": [],
   "source": []
  },
  {
   "cell_type": "code",
   "execution_count": null,
   "id": "ad0d6187",
   "metadata": {
    "papermill": {
     "duration": 0.035566,
     "end_time": "2024-04-10T17:14:42.352426",
     "exception": false,
     "start_time": "2024-04-10T17:14:42.316860",
     "status": "completed"
    },
    "tags": []
   },
   "outputs": [],
   "source": []
  },
  {
   "cell_type": "code",
   "execution_count": null,
   "id": "57847310",
   "metadata": {
    "papermill": {
     "duration": 0.035342,
     "end_time": "2024-04-10T17:14:42.423746",
     "exception": false,
     "start_time": "2024-04-10T17:14:42.388404",
     "status": "completed"
    },
    "tags": []
   },
   "outputs": [],
   "source": []
  },
  {
   "cell_type": "code",
   "execution_count": null,
   "id": "1cacaa57",
   "metadata": {
    "papermill": {
     "duration": 0.035533,
     "end_time": "2024-04-10T17:14:42.495387",
     "exception": false,
     "start_time": "2024-04-10T17:14:42.459854",
     "status": "completed"
    },
    "tags": []
   },
   "outputs": [],
   "source": []
  },
  {
   "cell_type": "code",
   "execution_count": null,
   "id": "4aa8ea5a",
   "metadata": {
    "papermill": {
     "duration": 0.036572,
     "end_time": "2024-04-10T17:14:42.568475",
     "exception": false,
     "start_time": "2024-04-10T17:14:42.531903",
     "status": "completed"
    },
    "tags": []
   },
   "outputs": [],
   "source": []
  },
  {
   "cell_type": "code",
   "execution_count": null,
   "id": "f0487216",
   "metadata": {
    "papermill": {
     "duration": 0.035541,
     "end_time": "2024-04-10T17:14:42.640192",
     "exception": false,
     "start_time": "2024-04-10T17:14:42.604651",
     "status": "completed"
    },
    "tags": []
   },
   "outputs": [],
   "source": []
  },
  {
   "cell_type": "code",
   "execution_count": null,
   "id": "b4d07db9",
   "metadata": {
    "papermill": {
     "duration": 0.03538,
     "end_time": "2024-04-10T17:14:42.712099",
     "exception": false,
     "start_time": "2024-04-10T17:14:42.676719",
     "status": "completed"
    },
    "tags": []
   },
   "outputs": [],
   "source": []
  },
  {
   "cell_type": "code",
   "execution_count": null,
   "id": "b03ff6f5",
   "metadata": {
    "papermill": {
     "duration": 0.03636,
     "end_time": "2024-04-10T17:14:42.784253",
     "exception": false,
     "start_time": "2024-04-10T17:14:42.747893",
     "status": "completed"
    },
    "tags": []
   },
   "outputs": [],
   "source": []
  },
  {
   "cell_type": "code",
   "execution_count": null,
   "id": "0ecfd02e",
   "metadata": {
    "papermill": {
     "duration": 0.035386,
     "end_time": "2024-04-10T17:14:42.855515",
     "exception": false,
     "start_time": "2024-04-10T17:14:42.820129",
     "status": "completed"
    },
    "tags": []
   },
   "outputs": [],
   "source": []
  },
  {
   "cell_type": "code",
   "execution_count": null,
   "id": "563bf148",
   "metadata": {
    "papermill": {
     "duration": 0.035453,
     "end_time": "2024-04-10T17:14:42.926783",
     "exception": false,
     "start_time": "2024-04-10T17:14:42.891330",
     "status": "completed"
    },
    "tags": []
   },
   "outputs": [],
   "source": []
  },
  {
   "cell_type": "code",
   "execution_count": null,
   "id": "975258c8",
   "metadata": {
    "papermill": {
     "duration": 0.035394,
     "end_time": "2024-04-10T17:14:42.998063",
     "exception": false,
     "start_time": "2024-04-10T17:14:42.962669",
     "status": "completed"
    },
    "tags": []
   },
   "outputs": [],
   "source": []
  },
  {
   "cell_type": "code",
   "execution_count": null,
   "id": "ee34a62c",
   "metadata": {
    "papermill": {
     "duration": 0.035384,
     "end_time": "2024-04-10T17:14:43.069534",
     "exception": false,
     "start_time": "2024-04-10T17:14:43.034150",
     "status": "completed"
    },
    "tags": []
   },
   "outputs": [],
   "source": []
  },
  {
   "cell_type": "code",
   "execution_count": null,
   "id": "8261f154",
   "metadata": {
    "papermill": {
     "duration": 0.035317,
     "end_time": "2024-04-10T17:14:43.140849",
     "exception": false,
     "start_time": "2024-04-10T17:14:43.105532",
     "status": "completed"
    },
    "tags": []
   },
   "outputs": [],
   "source": [
    "\n"
   ]
  },
  {
   "cell_type": "code",
   "execution_count": null,
   "id": "864075a1",
   "metadata": {
    "papermill": {
     "duration": 0.036354,
     "end_time": "2024-04-10T17:14:43.212979",
     "exception": false,
     "start_time": "2024-04-10T17:14:43.176625",
     "status": "completed"
    },
    "tags": []
   },
   "outputs": [],
   "source": []
  },
  {
   "cell_type": "code",
   "execution_count": null,
   "id": "b96658e2",
   "metadata": {
    "papermill": {
     "duration": 0.035751,
     "end_time": "2024-04-10T17:14:43.284995",
     "exception": false,
     "start_time": "2024-04-10T17:14:43.249244",
     "status": "completed"
    },
    "tags": []
   },
   "outputs": [],
   "source": []
  },
  {
   "cell_type": "code",
   "execution_count": null,
   "id": "78ecfb7c",
   "metadata": {
    "papermill": {
     "duration": 0.03728,
     "end_time": "2024-04-10T17:14:43.358732",
     "exception": false,
     "start_time": "2024-04-10T17:14:43.321452",
     "status": "completed"
    },
    "tags": []
   },
   "outputs": [],
   "source": []
  },
  {
   "cell_type": "code",
   "execution_count": null,
   "id": "5ef5367e",
   "metadata": {
    "papermill": {
     "duration": 0.035962,
     "end_time": "2024-04-10T17:14:43.430843",
     "exception": false,
     "start_time": "2024-04-10T17:14:43.394881",
     "status": "completed"
    },
    "tags": []
   },
   "outputs": [],
   "source": []
  },
  {
   "cell_type": "code",
   "execution_count": null,
   "id": "9b8fa181",
   "metadata": {
    "papermill": {
     "duration": 0.035562,
     "end_time": "2024-04-10T17:14:43.503931",
     "exception": false,
     "start_time": "2024-04-10T17:14:43.468369",
     "status": "completed"
    },
    "tags": []
   },
   "outputs": [],
   "source": []
  },
  {
   "cell_type": "code",
   "execution_count": null,
   "id": "0f6500b9",
   "metadata": {
    "papermill": {
     "duration": 0.036977,
     "end_time": "2024-04-10T17:14:43.577214",
     "exception": false,
     "start_time": "2024-04-10T17:14:43.540237",
     "status": "completed"
    },
    "tags": []
   },
   "outputs": [],
   "source": []
  },
  {
   "cell_type": "code",
   "execution_count": null,
   "id": "677874d9",
   "metadata": {
    "papermill": {
     "duration": 0.035805,
     "end_time": "2024-04-10T17:14:43.649239",
     "exception": false,
     "start_time": "2024-04-10T17:14:43.613434",
     "status": "completed"
    },
    "tags": []
   },
   "outputs": [],
   "source": []
  },
  {
   "cell_type": "code",
   "execution_count": null,
   "id": "d01d0aab",
   "metadata": {
    "papermill": {
     "duration": 0.035752,
     "end_time": "2024-04-10T17:14:43.721016",
     "exception": false,
     "start_time": "2024-04-10T17:14:43.685264",
     "status": "completed"
    },
    "tags": []
   },
   "outputs": [],
   "source": []
  },
  {
   "cell_type": "code",
   "execution_count": null,
   "id": "14b3671b",
   "metadata": {
    "papermill": {
     "duration": 0.036486,
     "end_time": "2024-04-10T17:14:43.793389",
     "exception": false,
     "start_time": "2024-04-10T17:14:43.756903",
     "status": "completed"
    },
    "tags": []
   },
   "outputs": [],
   "source": []
  },
  {
   "cell_type": "code",
   "execution_count": null,
   "id": "40fbc48d",
   "metadata": {
    "papermill": {
     "duration": 0.03544,
     "end_time": "2024-04-10T17:14:43.864870",
     "exception": false,
     "start_time": "2024-04-10T17:14:43.829430",
     "status": "completed"
    },
    "tags": []
   },
   "outputs": [],
   "source": []
  },
  {
   "cell_type": "code",
   "execution_count": null,
   "id": "689a0814",
   "metadata": {
    "papermill": {
     "duration": 0.035584,
     "end_time": "2024-04-10T17:14:43.936367",
     "exception": false,
     "start_time": "2024-04-10T17:14:43.900783",
     "status": "completed"
    },
    "tags": []
   },
   "outputs": [],
   "source": []
  },
  {
   "cell_type": "code",
   "execution_count": null,
   "id": "95fe1f0c",
   "metadata": {
    "papermill": {
     "duration": 0.035638,
     "end_time": "2024-04-10T17:14:44.007835",
     "exception": false,
     "start_time": "2024-04-10T17:14:43.972197",
     "status": "completed"
    },
    "tags": []
   },
   "outputs": [],
   "source": []
  },
  {
   "cell_type": "code",
   "execution_count": null,
   "id": "ca8e65e8",
   "metadata": {
    "papermill": {
     "duration": 0.035536,
     "end_time": "2024-04-10T17:14:44.079617",
     "exception": false,
     "start_time": "2024-04-10T17:14:44.044081",
     "status": "completed"
    },
    "tags": []
   },
   "outputs": [],
   "source": []
  },
  {
   "cell_type": "code",
   "execution_count": null,
   "id": "d595ba10",
   "metadata": {
    "papermill": {
     "duration": 0.035184,
     "end_time": "2024-04-10T17:14:44.150671",
     "exception": false,
     "start_time": "2024-04-10T17:14:44.115487",
     "status": "completed"
    },
    "tags": []
   },
   "outputs": [],
   "source": []
  },
  {
   "cell_type": "code",
   "execution_count": null,
   "id": "13fb87d7",
   "metadata": {
    "papermill": {
     "duration": 0.035668,
     "end_time": "2024-04-10T17:14:44.222222",
     "exception": false,
     "start_time": "2024-04-10T17:14:44.186554",
     "status": "completed"
    },
    "tags": []
   },
   "outputs": [],
   "source": []
  },
  {
   "cell_type": "code",
   "execution_count": null,
   "id": "06422438",
   "metadata": {
    "papermill": {
     "duration": 0.035579,
     "end_time": "2024-04-10T17:14:44.294816",
     "exception": false,
     "start_time": "2024-04-10T17:14:44.259237",
     "status": "completed"
    },
    "tags": []
   },
   "outputs": [],
   "source": []
  },
  {
   "cell_type": "code",
   "execution_count": null,
   "id": "7ad08fac",
   "metadata": {
    "papermill": {
     "duration": 0.036989,
     "end_time": "2024-04-10T17:14:44.368308",
     "exception": false,
     "start_time": "2024-04-10T17:14:44.331319",
     "status": "completed"
    },
    "tags": []
   },
   "outputs": [],
   "source": []
  },
  {
   "cell_type": "code",
   "execution_count": null,
   "id": "6dc038f5",
   "metadata": {
    "papermill": {
     "duration": 0.035484,
     "end_time": "2024-04-10T17:14:44.439732",
     "exception": false,
     "start_time": "2024-04-10T17:14:44.404248",
     "status": "completed"
    },
    "tags": []
   },
   "outputs": [],
   "source": []
  },
  {
   "cell_type": "code",
   "execution_count": null,
   "id": "fa52a9cc",
   "metadata": {
    "papermill": {
     "duration": 0.035392,
     "end_time": "2024-04-10T17:14:44.510811",
     "exception": false,
     "start_time": "2024-04-10T17:14:44.475419",
     "status": "completed"
    },
    "tags": []
   },
   "outputs": [],
   "source": []
  },
  {
   "cell_type": "code",
   "execution_count": null,
   "id": "0a7f1ba2",
   "metadata": {
    "papermill": {
     "duration": 0.035919,
     "end_time": "2024-04-10T17:14:44.582698",
     "exception": false,
     "start_time": "2024-04-10T17:14:44.546779",
     "status": "completed"
    },
    "tags": []
   },
   "outputs": [],
   "source": []
  },
  {
   "cell_type": "code",
   "execution_count": null,
   "id": "474df94b",
   "metadata": {
    "papermill": {
     "duration": 0.035549,
     "end_time": "2024-04-10T17:14:44.654194",
     "exception": false,
     "start_time": "2024-04-10T17:14:44.618645",
     "status": "completed"
    },
    "tags": []
   },
   "outputs": [],
   "source": []
  },
  {
   "cell_type": "code",
   "execution_count": null,
   "id": "c8ba65a7",
   "metadata": {
    "papermill": {
     "duration": 0.035491,
     "end_time": "2024-04-10T17:14:44.725545",
     "exception": false,
     "start_time": "2024-04-10T17:14:44.690054",
     "status": "completed"
    },
    "tags": []
   },
   "outputs": [],
   "source": []
  },
  {
   "cell_type": "code",
   "execution_count": null,
   "id": "53d30400",
   "metadata": {
    "papermill": {
     "duration": 0.035414,
     "end_time": "2024-04-10T17:14:44.796691",
     "exception": false,
     "start_time": "2024-04-10T17:14:44.761277",
     "status": "completed"
    },
    "tags": []
   },
   "outputs": [],
   "source": []
  },
  {
   "cell_type": "code",
   "execution_count": null,
   "id": "887289c3",
   "metadata": {
    "papermill": {
     "duration": 0.03555,
     "end_time": "2024-04-10T17:14:44.868214",
     "exception": false,
     "start_time": "2024-04-10T17:14:44.832664",
     "status": "completed"
    },
    "tags": []
   },
   "outputs": [],
   "source": []
  },
  {
   "cell_type": "code",
   "execution_count": null,
   "id": "a183bd37",
   "metadata": {
    "papermill": {
     "duration": 0.035725,
     "end_time": "2024-04-10T17:14:44.939883",
     "exception": false,
     "start_time": "2024-04-10T17:14:44.904158",
     "status": "completed"
    },
    "tags": []
   },
   "outputs": [],
   "source": []
  },
  {
   "cell_type": "code",
   "execution_count": null,
   "id": "6e9f64c2",
   "metadata": {
    "papermill": {
     "duration": 0.036655,
     "end_time": "2024-04-10T17:14:45.012472",
     "exception": false,
     "start_time": "2024-04-10T17:14:44.975817",
     "status": "completed"
    },
    "tags": []
   },
   "outputs": [],
   "source": []
  },
  {
   "cell_type": "code",
   "execution_count": null,
   "id": "2d1c53a6",
   "metadata": {
    "papermill": {
     "duration": 0.035847,
     "end_time": "2024-04-10T17:14:45.084516",
     "exception": false,
     "start_time": "2024-04-10T17:14:45.048669",
     "status": "completed"
    },
    "tags": []
   },
   "outputs": [],
   "source": []
  },
  {
   "cell_type": "code",
   "execution_count": null,
   "id": "6be2f955",
   "metadata": {
    "papermill": {
     "duration": 0.035516,
     "end_time": "2024-04-10T17:14:45.156029",
     "exception": false,
     "start_time": "2024-04-10T17:14:45.120513",
     "status": "completed"
    },
    "tags": []
   },
   "outputs": [],
   "source": []
  }
 ],
 "metadata": {
  "kaggle": {
   "accelerator": "none",
   "dataSources": [
    {
     "databundleVersionId": 7452256,
     "sourceId": 67079,
     "sourceType": "competition"
    }
   ],
   "dockerImageVersionId": 30646,
   "isGpuEnabled": false,
   "isInternetEnabled": false,
   "language": "python",
   "sourceType": "notebook"
  },
  "kernelspec": {
   "display_name": "Python 3",
   "language": "python",
   "name": "python3"
  },
  "language_info": {
   "codemirror_mode": {
    "name": "ipython",
    "version": 3
   },
   "file_extension": ".py",
   "mimetype": "text/x-python",
   "name": "python",
   "nbconvert_exporter": "python",
   "pygments_lexer": "ipython3",
   "version": "3.10.13"
  },
  "papermill": {
   "default_parameters": {},
   "duration": 1418.298928,
   "end_time": "2024-04-10T17:14:45.917477",
   "environment_variables": {},
   "exception": null,
   "input_path": "__notebook__.ipynb",
   "output_path": "__notebook__.ipynb",
   "parameters": {},
   "start_time": "2024-04-10T16:51:07.618549",
   "version": "2.5.0"
  }
 },
 "nbformat": 4,
 "nbformat_minor": 5
}
